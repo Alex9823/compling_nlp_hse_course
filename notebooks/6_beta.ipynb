{
 "cells": [
  {
   "cell_type": "code",
   "execution_count": 97,
   "metadata": {},
   "outputs": [],
   "source": [
    "import re\n",
    "from collections import Counter"
   ]
  },
  {
   "cell_type": "code",
   "execution_count": 81,
   "metadata": {},
   "outputs": [],
   "source": [
    "sents = "
   ]
  },
  {
   "cell_type": "code",
   "execution_count": 82,
   "metadata": {},
   "outputs": [
    {
     "data": {
      "text/plain": [
       "'Со временем, для гальванокаустики стали использовать металлические петли разной формы, получившие название гальванокаутеры, которые также накаливают электрическим током.\\n'"
      ]
     },
     "execution_count": 82,
     "metadata": {},
     "output_type": "execute_result"
    }
   ],
   "source": [
    "sents.readline()"
   ]
  },
  {
   "cell_type": "code",
   "execution_count": 101,
   "metadata": {},
   "outputs": [
    {
     "name": "stdout",
     "output_type": "stream",
     "text": [
      "0\n",
      "1\n",
      "1\n",
      "25\n",
      "2\n",
      "31\n",
      "3\n",
      "31\n",
      "4\n",
      "31\n"
     ]
    }
   ],
   "source": [
    "candidates = Counter(['Париж'])\n",
    "pattern = '(?:{}) и ([А-ЯЁ][\\w-]+)'\n",
    "new = Counter()\n",
    "\n",
    "for i in range(5):\n",
    "    print(i)\n",
    "    print(len(candidates))\n",
    "    for line in open('sentences_100k_wiki.txt'):\n",
    "        new.update(re.findall(pattern.format('|'.join([cand for cand, c in candidates.most_common(10)])), line))\n",
    "        candidates += new\n",
    "        new = Counter()\n",
    "                          "
   ]
  },
  {
   "cell_type": "code",
   "execution_count": 102,
   "metadata": {},
   "outputs": [
    {
     "data": {
      "text/plain": [
       "Counter({'Английской': 5,\n",
       "         'Атлетико': 5,\n",
       "         'Берлин': 4,\n",
       "         'Вашингтон': 5,\n",
       "         'Вену': 4,\n",
       "         'Гонконг': 5,\n",
       "         'Гонсалес': 5,\n",
       "         'Джерри': 5,\n",
       "         'Кадис': 1,\n",
       "         'Кале': 5,\n",
       "         'Лиссабон': 5,\n",
       "         'Лондон': 19,\n",
       "         'МКФ': 5,\n",
       "         'Мадрид': 5,\n",
       "         'Марсель': 5,\n",
       "         'Милан': 5,\n",
       "         'Мюлуз': 5,\n",
       "         'Нанси': 4,\n",
       "         'Нью-Йорк': 4,\n",
       "         'Парана': 5,\n",
       "         'Париж': 6,\n",
       "         'Порту-Алегри': 5,\n",
       "         'Рим': 5,\n",
       "         'Рио-де-Жанейро': 10,\n",
       "         'Сан-Паулу': 14,\n",
       "         'Сеул': 4,\n",
       "         'Службы': 4,\n",
       "         'Уругвай': 5,\n",
       "         'Францию': 5,\n",
       "         'Эдинбург': 5,\n",
       "         'Эспириту-Санту': 5})"
      ]
     },
     "execution_count": 102,
     "metadata": {},
     "output_type": "execute_result"
    }
   ],
   "source": [
    "candidates"
   ]
  },
  {
   "cell_type": "code",
   "execution_count": null,
   "metadata": {},
   "outputs": [],
   "source": []
  }
 ],
 "metadata": {
  "kernelspec": {
   "display_name": "Python 3",
   "language": "python",
   "name": "python3"
  },
  "language_info": {
   "codemirror_mode": {
    "name": "ipython",
    "version": 3
   },
   "file_extension": ".py",
   "mimetype": "text/x-python",
   "name": "python",
   "nbconvert_exporter": "python",
   "pygments_lexer": "ipython3",
   "version": "3.5.2"
  }
 },
 "nbformat": 4,
 "nbformat_minor": 2
}
