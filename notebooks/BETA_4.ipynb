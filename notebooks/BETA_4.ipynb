{
 "cells": [
  {
   "cell_type": "code",
   "execution_count": 1,
   "metadata": {},
   "outputs": [],
   "source": [
    "import pandas as pd\n",
    "from lxml import html"
   ]
  },
  {
   "cell_type": "code",
   "execution_count": 86,
   "metadata": {},
   "outputs": [],
   "source": [
    "corpus_xml = html.fromstring(open('paraphraser/paraphrases.xml', 'rb').read())"
   ]
  },
  {
   "cell_type": "code",
   "execution_count": 87,
   "metadata": {},
   "outputs": [],
   "source": [
    "texts_1 = []\n",
    "texts_2 = []\n",
    "classes = []\n",
    "\n",
    "for p in corpus_xml.xpath('//paraphrase'):\n",
    "    texts_1.append(p.xpath('./value[@name=\"text_1\"]/text()')[0])\n",
    "    texts_2.append(p.xpath('./value[@name=\"text_2\"]/text()')[0])\n",
    "    classes.append(p.xpath('./value[@name=\"class\"]/text()')[0])"
   ]
  },
  {
   "cell_type": "code",
   "execution_count": null,
   "metadata": {},
   "outputs": [],
   "source": []
  },
  {
   "cell_type": "code",
   "execution_count": 88,
   "metadata": {},
   "outputs": [],
   "source": [
    "data = pd.DataFrame({'text_1':texts_1, 'text_2':texts_2, 'label':classes})"
   ]
  },
  {
   "cell_type": "code",
   "execution_count": 5,
   "metadata": {
    "scrolled": true
   },
   "outputs": [
    {
     "data": {
      "text/html": [
       "<div>\n",
       "<style scoped>\n",
       "    .dataframe tbody tr th:only-of-type {\n",
       "        vertical-align: middle;\n",
       "    }\n",
       "\n",
       "    .dataframe tbody tr th {\n",
       "        vertical-align: top;\n",
       "    }\n",
       "\n",
       "    .dataframe thead th {\n",
       "        text-align: right;\n",
       "    }\n",
       "</style>\n",
       "<table border=\"1\" class=\"dataframe\">\n",
       "  <thead>\n",
       "    <tr style=\"text-align: right;\">\n",
       "      <th></th>\n",
       "      <th>label</th>\n",
       "      <th>text_1</th>\n",
       "      <th>text_2</th>\n",
       "    </tr>\n",
       "  </thead>\n",
       "  <tbody>\n",
       "    <tr>\n",
       "      <th>0</th>\n",
       "      <td>0</td>\n",
       "      <td>Полицейским разрешат стрелять на поражение по ...</td>\n",
       "      <td>Полицейским разрешат стрелять на поражение по ...</td>\n",
       "    </tr>\n",
       "    <tr>\n",
       "      <th>1</th>\n",
       "      <td>0</td>\n",
       "      <td>Право полицейских на проникновение в жилище ре...</td>\n",
       "      <td>Право полицейских на проникновение в жилище ре...</td>\n",
       "    </tr>\n",
       "    <tr>\n",
       "      <th>2</th>\n",
       "      <td>0</td>\n",
       "      <td>Президент Египта ввел чрезвычайное положение в...</td>\n",
       "      <td>Президент Египта ввел чрезвычайное положение в...</td>\n",
       "    </tr>\n",
       "    <tr>\n",
       "      <th>3</th>\n",
       "      <td>-1</td>\n",
       "      <td>Вернувшихся из Сирии россиян волнует вопрос тр...</td>\n",
       "      <td>Вернувшихся из Сирии россиян волнует вопрос тр...</td>\n",
       "    </tr>\n",
       "    <tr>\n",
       "      <th>4</th>\n",
       "      <td>0</td>\n",
       "      <td>В Москву из Сирии вернулись 2 самолета МЧС с р...</td>\n",
       "      <td>В Москву из Сирии вернулись 2 самолета МЧС с р...</td>\n",
       "    </tr>\n",
       "    <tr>\n",
       "      <th>5</th>\n",
       "      <td>1</td>\n",
       "      <td>Приставы соберут отпечатки пальцев российских ...</td>\n",
       "      <td>Приставы соберут отпечатки пальцев российских ...</td>\n",
       "    </tr>\n",
       "    <tr>\n",
       "      <th>6</th>\n",
       "      <td>-1</td>\n",
       "      <td>На саратовского дебошира с борта самолета Моск...</td>\n",
       "      <td>На саратовского дебошира с борта самолета Моск...</td>\n",
       "    </tr>\n",
       "    <tr>\n",
       "      <th>7</th>\n",
       "      <td>0</td>\n",
       "      <td>ЦИК хочет отказаться от электронной системы по...</td>\n",
       "      <td>ЦИК хочет отказаться от электронной системы по...</td>\n",
       "    </tr>\n",
       "    <tr>\n",
       "      <th>8</th>\n",
       "      <td>-1</td>\n",
       "      <td>Суд Петербурга оставил на потом дело о гибели ...</td>\n",
       "      <td>Суд Петербурга оставил на потом дело о гибели ...</td>\n",
       "    </tr>\n",
       "    <tr>\n",
       "      <th>9</th>\n",
       "      <td>-1</td>\n",
       "      <td>Страны ОПЕК сократили добычу нефти на 1 млн ба...</td>\n",
       "      <td>Страны ОПЕК сократили добычу нефти на 1 млн ба...</td>\n",
       "    </tr>\n",
       "    <tr>\n",
       "      <th>10</th>\n",
       "      <td>1</td>\n",
       "      <td>Москвичи смогут забронировать в Интернете мест...</td>\n",
       "      <td>Москвичи смогут забронировать в Интернете мест...</td>\n",
       "    </tr>\n",
       "    <tr>\n",
       "      <th>11</th>\n",
       "      <td>-1</td>\n",
       "      <td>Въезд в центр Москвы автомобилям с двигателями...</td>\n",
       "      <td>Въезд в центр Москвы автомобилям с двигателями...</td>\n",
       "    </tr>\n",
       "    <tr>\n",
       "      <th>12</th>\n",
       "      <td>0</td>\n",
       "      <td>В Подмосковье произошел пожар на железной дороге.</td>\n",
       "      <td>В Подмосковье произошел пожар на железной дороге.</td>\n",
       "    </tr>\n",
       "    <tr>\n",
       "      <th>13</th>\n",
       "      <td>1</td>\n",
       "      <td>Северокорейский лидер впервые за 19 лет поздра...</td>\n",
       "      <td>Северокорейский лидер впервые за 19 лет поздра...</td>\n",
       "    </tr>\n",
       "    <tr>\n",
       "      <th>14</th>\n",
       "      <td>1</td>\n",
       "      <td>Мужчина из Подмосковья случайно убил жену в Но...</td>\n",
       "      <td>Мужчина из Подмосковья случайно убил жену в Но...</td>\n",
       "    </tr>\n",
       "    <tr>\n",
       "      <th>15</th>\n",
       "      <td>0</td>\n",
       "      <td>Избежать \"фискального обрыва\": Сенат США подде...</td>\n",
       "      <td>Избежать \"фискального обрыва\": Сенат США подде...</td>\n",
       "    </tr>\n",
       "    <tr>\n",
       "      <th>16</th>\n",
       "      <td>0</td>\n",
       "      <td>\"Фискальный обрыв\" в США временно предотвращен.</td>\n",
       "      <td>\"Фискальный обрыв\" в США временно предотвращен.</td>\n",
       "    </tr>\n",
       "    <tr>\n",
       "      <th>17</th>\n",
       "      <td>1</td>\n",
       "      <td>Житель Украины расстрелял посетителей кафе.</td>\n",
       "      <td>Житель Украины расстрелял посетителей кафе.</td>\n",
       "    </tr>\n",
       "    <tr>\n",
       "      <th>18</th>\n",
       "      <td>0</td>\n",
       "      <td>В Кот-Д`Ивуаре десятки человек погибли в давке...</td>\n",
       "      <td>В Кот-Д`Ивуаре десятки человек погибли в давке...</td>\n",
       "    </tr>\n",
       "    <tr>\n",
       "      <th>19</th>\n",
       "      <td>0</td>\n",
       "      <td>В Абхазии отомстили за Деда Хасана.</td>\n",
       "      <td>В Абхазии отомстили за Деда Хасана.</td>\n",
       "    </tr>\n",
       "    <tr>\n",
       "      <th>20</th>\n",
       "      <td>0</td>\n",
       "      <td>Чечня попросила националистов составить кодекс...</td>\n",
       "      <td>Чечня попросила националистов составить кодекс...</td>\n",
       "    </tr>\n",
       "    <tr>\n",
       "      <th>21</th>\n",
       "      <td>1</td>\n",
       "      <td>В новогоднюю ночь во Франции сожгли больше тыс...</td>\n",
       "      <td>В новогоднюю ночь во Франции сожгли больше тыс...</td>\n",
       "    </tr>\n",
       "    <tr>\n",
       "      <th>22</th>\n",
       "      <td>1</td>\n",
       "      <td>В Анголе в давке во время церковной службы пог...</td>\n",
       "      <td>В Анголе в давке во время церковной службы пог...</td>\n",
       "    </tr>\n",
       "    <tr>\n",
       "      <th>23</th>\n",
       "      <td>1</td>\n",
       "      <td>Morgan Stanley взял на работу бывшего зампреда...</td>\n",
       "      <td>Morgan Stanley взял на работу бывшего зампреда...</td>\n",
       "    </tr>\n",
       "    <tr>\n",
       "      <th>24</th>\n",
       "      <td>1</td>\n",
       "      <td>Конгресс США утвердил план по предотвращению \"...</td>\n",
       "      <td>Конгресс США утвердил план по предотвращению \"...</td>\n",
       "    </tr>\n",
       "    <tr>\n",
       "      <th>25</th>\n",
       "      <td>0</td>\n",
       "      <td>Счетная палата проверит Газпром на непрофильны...</td>\n",
       "      <td>Счетная палата проверит Газпром на непрофильны...</td>\n",
       "    </tr>\n",
       "    <tr>\n",
       "      <th>26</th>\n",
       "      <td>1</td>\n",
       "      <td>Новые комиксы о пророке Мухаммеде появились во...</td>\n",
       "      <td>Новые комиксы о пророке Мухаммеде появились во...</td>\n",
       "    </tr>\n",
       "    <tr>\n",
       "      <th>27</th>\n",
       "      <td>0</td>\n",
       "      <td>Число убитых в ходе конфликта в Сирии превысил...</td>\n",
       "      <td>Число убитых в ходе конфликта в Сирии превысил...</td>\n",
       "    </tr>\n",
       "    <tr>\n",
       "      <th>28</th>\n",
       "      <td>1</td>\n",
       "      <td>В США скончалась звезда эстрады 1950-х Патти П...</td>\n",
       "      <td>В США скончалась звезда эстрады 1950-х Патти П...</td>\n",
       "    </tr>\n",
       "    <tr>\n",
       "      <th>29</th>\n",
       "      <td>1</td>\n",
       "      <td>Сенат США единогласно осудил \"закон Димы Яковл...</td>\n",
       "      <td>Сенат США единогласно осудил \"закон Димы Яковл...</td>\n",
       "    </tr>\n",
       "    <tr>\n",
       "      <th>...</th>\n",
       "      <td>...</td>\n",
       "      <td>...</td>\n",
       "      <td>...</td>\n",
       "    </tr>\n",
       "    <tr>\n",
       "      <th>7197</th>\n",
       "      <td>0</td>\n",
       "      <td>Вертолет с 11 иностранцами на борту упал в Пак...</td>\n",
       "      <td>Вертолет с 11 иностранцами на борту упал в Пак...</td>\n",
       "    </tr>\n",
       "    <tr>\n",
       "      <th>7198</th>\n",
       "      <td>-1</td>\n",
       "      <td>Лидер британских лейбористов сохранил место в ...</td>\n",
       "      <td>Лидер британских лейбористов сохранил место в ...</td>\n",
       "    </tr>\n",
       "    <tr>\n",
       "      <th>7199</th>\n",
       "      <td>0</td>\n",
       "      <td>Exit poll: консерваторы лидируют на выборах в ...</td>\n",
       "      <td>Exit poll: консерваторы лидируют на выборах в ...</td>\n",
       "    </tr>\n",
       "    <tr>\n",
       "      <th>7200</th>\n",
       "      <td>-1</td>\n",
       "      <td>Разговор о роли России во Второй мировой войне</td>\n",
       "      <td>Разговор о роли России во Второй мировой войне</td>\n",
       "    </tr>\n",
       "    <tr>\n",
       "      <th>7201</th>\n",
       "      <td>0</td>\n",
       "      <td>Суд оправдал Васильеву в мошенничестве со здан...</td>\n",
       "      <td>Суд оправдал Васильеву в мошенничестве со здан...</td>\n",
       "    </tr>\n",
       "    <tr>\n",
       "      <th>7202</th>\n",
       "      <td>-1</td>\n",
       "      <td>Суд оправдал Васильеву в хищении акций на два ...</td>\n",
       "      <td>Суд оправдал Васильеву в хищении акций на два ...</td>\n",
       "    </tr>\n",
       "    <tr>\n",
       "      <th>7203</th>\n",
       "      <td>0</td>\n",
       "      <td>Суд оправдал Васильеву в хищении акций на 2 мл...</td>\n",
       "      <td>Суд оправдал Васильеву в хищении акций на 2 мл...</td>\n",
       "    </tr>\n",
       "    <tr>\n",
       "      <th>7204</th>\n",
       "      <td>-1</td>\n",
       "      <td>Цены на нефть восстанавливаются</td>\n",
       "      <td>Цены на нефть восстанавливаются</td>\n",
       "    </tr>\n",
       "    <tr>\n",
       "      <th>7205</th>\n",
       "      <td>-1</td>\n",
       "      <td>МЧС прорабатывает транспортировку тел погибших...</td>\n",
       "      <td>МЧС прорабатывает транспортировку тел погибших...</td>\n",
       "    </tr>\n",
       "    <tr>\n",
       "      <th>7206</th>\n",
       "      <td>-1</td>\n",
       "      <td>9 мая метрополитен Петербурга будет работать к...</td>\n",
       "      <td>9 мая метрополитен Петербурга будет работать к...</td>\n",
       "    </tr>\n",
       "    <tr>\n",
       "      <th>7207</th>\n",
       "      <td>0</td>\n",
       "      <td>Лидер лейбористов Великобритании объявил об от...</td>\n",
       "      <td>Лидер лейбористов Великобритании объявил об от...</td>\n",
       "    </tr>\n",
       "    <tr>\n",
       "      <th>7208</th>\n",
       "      <td>0</td>\n",
       "      <td>Газета The Times сообщила об отставке лидера б...</td>\n",
       "      <td>Газета The Times сообщила об отставке лидера б...</td>\n",
       "    </tr>\n",
       "    <tr>\n",
       "      <th>7209</th>\n",
       "      <td>-1</td>\n",
       "      <td>9 мая метрополитен Петербурга будет работать к...</td>\n",
       "      <td>9 мая метрополитен Петербурга будет работать к...</td>\n",
       "    </tr>\n",
       "    <tr>\n",
       "      <th>7210</th>\n",
       "      <td>-1</td>\n",
       "      <td>Россия убедила КНР выделить на магистраль Моск...</td>\n",
       "      <td>Россия убедила КНР выделить на магистраль Моск...</td>\n",
       "    </tr>\n",
       "    <tr>\n",
       "      <th>7211</th>\n",
       "      <td>-1</td>\n",
       "      <td>9 мая метрополитен Петербурга будет работать к...</td>\n",
       "      <td>9 мая метрополитен Петербурга будет работать к...</td>\n",
       "    </tr>\n",
       "    <tr>\n",
       "      <th>7212</th>\n",
       "      <td>-1</td>\n",
       "      <td>Суд назначил Васильевой пять лет реального зак...</td>\n",
       "      <td>Суд назначил Васильевой пять лет реального зак...</td>\n",
       "    </tr>\n",
       "    <tr>\n",
       "      <th>7213</th>\n",
       "      <td>-1</td>\n",
       "      <td>Экзит-полы показали победу консерваторов на вы...</td>\n",
       "      <td>Экзит-полы показали победу консерваторов на вы...</td>\n",
       "    </tr>\n",
       "    <tr>\n",
       "      <th>7214</th>\n",
       "      <td>-1</td>\n",
       "      <td>Косачев: победа консерваторов в Британии сохра...</td>\n",
       "      <td>Косачев: победа консерваторов в Британии сохра...</td>\n",
       "    </tr>\n",
       "    <tr>\n",
       "      <th>7215</th>\n",
       "      <td>-1</td>\n",
       "      <td>Консерваторы претендуют на большинство в парла...</td>\n",
       "      <td>Консерваторы претендуют на большинство в парла...</td>\n",
       "    </tr>\n",
       "    <tr>\n",
       "      <th>7216</th>\n",
       "      <td>-1</td>\n",
       "      <td>Николай Толстых ответил на слова агента Капелло</td>\n",
       "      <td>Николай Толстых ответил на слова агента Капелло</td>\n",
       "    </tr>\n",
       "    <tr>\n",
       "      <th>7217</th>\n",
       "      <td>-1</td>\n",
       "      <td>Суд продолжит оглашение приговора фигурантам д...</td>\n",
       "      <td>Суд продолжит оглашение приговора фигурантам д...</td>\n",
       "    </tr>\n",
       "    <tr>\n",
       "      <th>7218</th>\n",
       "      <td>-1</td>\n",
       "      <td>Суд назначил Васильевой пять лет реального зак...</td>\n",
       "      <td>Суд назначил Васильевой пять лет реального зак...</td>\n",
       "    </tr>\n",
       "    <tr>\n",
       "      <th>7219</th>\n",
       "      <td>-1</td>\n",
       "      <td>Амнистия будет приурочена в Белоруссии к 70-ле...</td>\n",
       "      <td>Амнистия будет приурочена в Белоруссии к 70-ле...</td>\n",
       "    </tr>\n",
       "    <tr>\n",
       "      <th>7220</th>\n",
       "      <td>-1</td>\n",
       "      <td>Адвокат: Васильева \"нормально восприняла\" приг...</td>\n",
       "      <td>Адвокат: Васильева \"нормально восприняла\" приг...</td>\n",
       "    </tr>\n",
       "    <tr>\n",
       "      <th>7221</th>\n",
       "      <td>1</td>\n",
       "      <td>Маркин: Васильева сможет реализовать свой поте...</td>\n",
       "      <td>Маркин: Васильева сможет реализовать свой поте...</td>\n",
       "    </tr>\n",
       "    <tr>\n",
       "      <th>7222</th>\n",
       "      <td>0</td>\n",
       "      <td>Путин освободил от должности ряд генералов</td>\n",
       "      <td>Путин освободил от должности ряд генералов</td>\n",
       "    </tr>\n",
       "    <tr>\n",
       "      <th>7223</th>\n",
       "      <td>-1</td>\n",
       "      <td>Облака над Москвой в День Победы разгонят девя...</td>\n",
       "      <td>Облака над Москвой в День Победы разгонят девя...</td>\n",
       "    </tr>\n",
       "    <tr>\n",
       "      <th>7224</th>\n",
       "      <td>-1</td>\n",
       "      <td>Любляна отпразднует День Победы вместе с Москвой</td>\n",
       "      <td>Любляна отпразднует День Победы вместе с Москвой</td>\n",
       "    </tr>\n",
       "    <tr>\n",
       "      <th>7225</th>\n",
       "      <td>-1</td>\n",
       "      <td>Девять самолетов ВВС разгонят облака над Москв...</td>\n",
       "      <td>Девять самолетов ВВС разгонят облака над Москв...</td>\n",
       "    </tr>\n",
       "    <tr>\n",
       "      <th>7226</th>\n",
       "      <td>-1</td>\n",
       "      <td>9 мая метрополитен Петербурга будет работать к...</td>\n",
       "      <td>9 мая метрополитен Петербурга будет работать к...</td>\n",
       "    </tr>\n",
       "  </tbody>\n",
       "</table>\n",
       "<p>7227 rows × 3 columns</p>\n",
       "</div>"
      ],
      "text/plain": [
       "     label                                             text_1  \\\n",
       "0        0  Полицейским разрешат стрелять на поражение по ...   \n",
       "1        0  Право полицейских на проникновение в жилище ре...   \n",
       "2        0  Президент Египта ввел чрезвычайное положение в...   \n",
       "3       -1  Вернувшихся из Сирии россиян волнует вопрос тр...   \n",
       "4        0  В Москву из Сирии вернулись 2 самолета МЧС с р...   \n",
       "5        1  Приставы соберут отпечатки пальцев российских ...   \n",
       "6       -1  На саратовского дебошира с борта самолета Моск...   \n",
       "7        0  ЦИК хочет отказаться от электронной системы по...   \n",
       "8       -1  Суд Петербурга оставил на потом дело о гибели ...   \n",
       "9       -1  Страны ОПЕК сократили добычу нефти на 1 млн ба...   \n",
       "10       1  Москвичи смогут забронировать в Интернете мест...   \n",
       "11      -1  Въезд в центр Москвы автомобилям с двигателями...   \n",
       "12       0  В Подмосковье произошел пожар на железной дороге.   \n",
       "13       1  Северокорейский лидер впервые за 19 лет поздра...   \n",
       "14       1  Мужчина из Подмосковья случайно убил жену в Но...   \n",
       "15       0  Избежать \"фискального обрыва\": Сенат США подде...   \n",
       "16       0    \"Фискальный обрыв\" в США временно предотвращен.   \n",
       "17       1        Житель Украины расстрелял посетителей кафе.   \n",
       "18       0  В Кот-Д`Ивуаре десятки человек погибли в давке...   \n",
       "19       0                В Абхазии отомстили за Деда Хасана.   \n",
       "20       0  Чечня попросила националистов составить кодекс...   \n",
       "21       1  В новогоднюю ночь во Франции сожгли больше тыс...   \n",
       "22       1  В Анголе в давке во время церковной службы пог...   \n",
       "23       1  Morgan Stanley взял на работу бывшего зампреда...   \n",
       "24       1  Конгресс США утвердил план по предотвращению \"...   \n",
       "25       0  Счетная палата проверит Газпром на непрофильны...   \n",
       "26       1  Новые комиксы о пророке Мухаммеде появились во...   \n",
       "27       0  Число убитых в ходе конфликта в Сирии превысил...   \n",
       "28       1  В США скончалась звезда эстрады 1950-х Патти П...   \n",
       "29       1  Сенат США единогласно осудил \"закон Димы Яковл...   \n",
       "...    ...                                                ...   \n",
       "7197     0  Вертолет с 11 иностранцами на борту упал в Пак...   \n",
       "7198    -1  Лидер британских лейбористов сохранил место в ...   \n",
       "7199     0  Exit poll: консерваторы лидируют на выборах в ...   \n",
       "7200    -1     Разговор о роли России во Второй мировой войне   \n",
       "7201     0  Суд оправдал Васильеву в мошенничестве со здан...   \n",
       "7202    -1  Суд оправдал Васильеву в хищении акций на два ...   \n",
       "7203     0  Суд оправдал Васильеву в хищении акций на 2 мл...   \n",
       "7204    -1                    Цены на нефть восстанавливаются   \n",
       "7205    -1  МЧС прорабатывает транспортировку тел погибших...   \n",
       "7206    -1  9 мая метрополитен Петербурга будет работать к...   \n",
       "7207     0  Лидер лейбористов Великобритании объявил об от...   \n",
       "7208     0  Газета The Times сообщила об отставке лидера б...   \n",
       "7209    -1  9 мая метрополитен Петербурга будет работать к...   \n",
       "7210    -1  Россия убедила КНР выделить на магистраль Моск...   \n",
       "7211    -1  9 мая метрополитен Петербурга будет работать к...   \n",
       "7212    -1  Суд назначил Васильевой пять лет реального зак...   \n",
       "7213    -1  Экзит-полы показали победу консерваторов на вы...   \n",
       "7214    -1  Косачев: победа консерваторов в Британии сохра...   \n",
       "7215    -1  Консерваторы претендуют на большинство в парла...   \n",
       "7216    -1    Николай Толстых ответил на слова агента Капелло   \n",
       "7217    -1  Суд продолжит оглашение приговора фигурантам д...   \n",
       "7218    -1  Суд назначил Васильевой пять лет реального зак...   \n",
       "7219    -1  Амнистия будет приурочена в Белоруссии к 70-ле...   \n",
       "7220    -1  Адвокат: Васильева \"нормально восприняла\" приг...   \n",
       "7221     1  Маркин: Васильева сможет реализовать свой поте...   \n",
       "7222     0         Путин освободил от должности ряд генералов   \n",
       "7223    -1  Облака над Москвой в День Победы разгонят девя...   \n",
       "7224    -1   Любляна отпразднует День Победы вместе с Москвой   \n",
       "7225    -1  Девять самолетов ВВС разгонят облака над Москв...   \n",
       "7226    -1  9 мая метрополитен Петербурга будет работать к...   \n",
       "\n",
       "                                                 text_2  \n",
       "0     Полицейским разрешат стрелять на поражение по ...  \n",
       "1     Право полицейских на проникновение в жилище ре...  \n",
       "2     Президент Египта ввел чрезвычайное положение в...  \n",
       "3     Вернувшихся из Сирии россиян волнует вопрос тр...  \n",
       "4     В Москву из Сирии вернулись 2 самолета МЧС с р...  \n",
       "5     Приставы соберут отпечатки пальцев российских ...  \n",
       "6     На саратовского дебошира с борта самолета Моск...  \n",
       "7     ЦИК хочет отказаться от электронной системы по...  \n",
       "8     Суд Петербурга оставил на потом дело о гибели ...  \n",
       "9     Страны ОПЕК сократили добычу нефти на 1 млн ба...  \n",
       "10    Москвичи смогут забронировать в Интернете мест...  \n",
       "11    Въезд в центр Москвы автомобилям с двигателями...  \n",
       "12    В Подмосковье произошел пожар на железной дороге.  \n",
       "13    Северокорейский лидер впервые за 19 лет поздра...  \n",
       "14    Мужчина из Подмосковья случайно убил жену в Но...  \n",
       "15    Избежать \"фискального обрыва\": Сенат США подде...  \n",
       "16      \"Фискальный обрыв\" в США временно предотвращен.  \n",
       "17          Житель Украины расстрелял посетителей кафе.  \n",
       "18    В Кот-Д`Ивуаре десятки человек погибли в давке...  \n",
       "19                  В Абхазии отомстили за Деда Хасана.  \n",
       "20    Чечня попросила националистов составить кодекс...  \n",
       "21    В новогоднюю ночь во Франции сожгли больше тыс...  \n",
       "22    В Анголе в давке во время церковной службы пог...  \n",
       "23    Morgan Stanley взял на работу бывшего зампреда...  \n",
       "24    Конгресс США утвердил план по предотвращению \"...  \n",
       "25    Счетная палата проверит Газпром на непрофильны...  \n",
       "26    Новые комиксы о пророке Мухаммеде появились во...  \n",
       "27    Число убитых в ходе конфликта в Сирии превысил...  \n",
       "28    В США скончалась звезда эстрады 1950-х Патти П...  \n",
       "29    Сенат США единогласно осудил \"закон Димы Яковл...  \n",
       "...                                                 ...  \n",
       "7197  Вертолет с 11 иностранцами на борту упал в Пак...  \n",
       "7198  Лидер британских лейбористов сохранил место в ...  \n",
       "7199  Exit poll: консерваторы лидируют на выборах в ...  \n",
       "7200     Разговор о роли России во Второй мировой войне  \n",
       "7201  Суд оправдал Васильеву в мошенничестве со здан...  \n",
       "7202  Суд оправдал Васильеву в хищении акций на два ...  \n",
       "7203  Суд оправдал Васильеву в хищении акций на 2 мл...  \n",
       "7204                    Цены на нефть восстанавливаются  \n",
       "7205  МЧС прорабатывает транспортировку тел погибших...  \n",
       "7206  9 мая метрополитен Петербурга будет работать к...  \n",
       "7207  Лидер лейбористов Великобритании объявил об от...  \n",
       "7208  Газета The Times сообщила об отставке лидера б...  \n",
       "7209  9 мая метрополитен Петербурга будет работать к...  \n",
       "7210  Россия убедила КНР выделить на магистраль Моск...  \n",
       "7211  9 мая метрополитен Петербурга будет работать к...  \n",
       "7212  Суд назначил Васильевой пять лет реального зак...  \n",
       "7213  Экзит-полы показали победу консерваторов на вы...  \n",
       "7214  Косачев: победа консерваторов в Британии сохра...  \n",
       "7215  Консерваторы претендуют на большинство в парла...  \n",
       "7216    Николай Толстых ответил на слова агента Капелло  \n",
       "7217  Суд продолжит оглашение приговора фигурантам д...  \n",
       "7218  Суд назначил Васильевой пять лет реального зак...  \n",
       "7219  Амнистия будет приурочена в Белоруссии к 70-ле...  \n",
       "7220  Адвокат: Васильева \"нормально восприняла\" приг...  \n",
       "7221  Маркин: Васильева сможет реализовать свой поте...  \n",
       "7222         Путин освободил от должности ряд генералов  \n",
       "7223  Облака над Москвой в День Победы разгонят девя...  \n",
       "7224   Любляна отпразднует День Победы вместе с Москвой  \n",
       "7225  Девять самолетов ВВС разгонят облака над Москв...  \n",
       "7226  9 мая метрополитен Петербурга будет работать к...  \n",
       "\n",
       "[7227 rows x 3 columns]"
      ]
     },
     "execution_count": 5,
     "metadata": {},
     "output_type": "execute_result"
    }
   ],
   "source": [
    "data"
   ]
  },
  {
   "cell_type": "code",
   "execution_count": 6,
   "metadata": {},
   "outputs": [],
   "source": [
    "texts = pd.concat([data['text_1'], data['text_2']], ignore_index=True)"
   ]
  },
  {
   "cell_type": "code",
   "execution_count": 89,
   "metadata": {},
   "outputs": [],
   "source": [
    "\n",
    "from string import punctuation\n",
    "import os\n",
    "from nltk.corpus import stopwords\n",
    "from pymorphy2 import MorphAnalyzer\n",
    "morph = MorphAnalyzer()\n",
    "punct = punctuation+'«»—…“”*№–'\n",
    "stops = set(stopwords.words('russian'))\n",
    "\n",
    "def normalize(text):\n",
    "    \n",
    "    words = [word.strip(punct) for word in text.lower().split()]\n",
    "    words = [morph.parse(word)[0].normal_form for word in words if word and word not in stops]\n",
    "\n",
    "    return ' '.join(words)"
   ]
  },
  {
   "cell_type": "code",
   "execution_count": 8,
   "metadata": {},
   "outputs": [],
   "source": [
    "\n",
    "\n",
    "data_rt = pd.concat([pd.read_json('data/'+file, lines=True) for file in os.listdir('data')], ignore_index=True)"
   ]
  },
  {
   "cell_type": "code",
   "execution_count": 9,
   "metadata": {},
   "outputs": [],
   "source": [
    "data_rt['content_norm'] = data_rt['content'].apply(normalize)"
   ]
  },
  {
   "cell_type": "code",
   "execution_count": 10,
   "metadata": {},
   "outputs": [
    {
     "data": {
      "text/plain": [
       "(7217, 6)"
      ]
     },
     "execution_count": 10,
     "metadata": {},
     "output_type": "execute_result"
    }
   ],
   "source": [
    "data_rt.shape"
   ]
  },
  {
   "cell_type": "code",
   "execution_count": 11,
   "metadata": {},
   "outputs": [],
   "source": [
    "texts_norm = texts.apply(normalize)"
   ]
  },
  {
   "cell_type": "code",
   "execution_count": 12,
   "metadata": {},
   "outputs": [],
   "source": [
    "from sklearn.decomposition import TruncatedSVD, NMF\n",
    "from sklearn.feature_extraction.text import TfidfVectorizer\n",
    "from sklearn.metrics.pairwise import cosine_distances\n",
    "from sklearn.ensemble import RandomForestClassifier"
   ]
  },
  {
   "cell_type": "code",
   "execution_count": 13,
   "metadata": {},
   "outputs": [],
   "source": [
    "tfidf = TfidfVectorizer(min_df=3, max_df=0.4, max_features=10000)\n",
    "X = tfidf.fit_transform(data_rt['content_norm'])"
   ]
  },
  {
   "cell_type": "code",
   "execution_count": 14,
   "metadata": {},
   "outputs": [
    {
     "data": {
      "text/plain": [
       "(7217, 10000)"
      ]
     },
     "execution_count": 14,
     "metadata": {},
     "output_type": "execute_result"
    }
   ],
   "source": [
    "X.shape"
   ]
  },
  {
   "cell_type": "code",
   "execution_count": 92,
   "metadata": {},
   "outputs": [],
   "source": [
    "svd = TruncatedSVD(50)"
   ]
  },
  {
   "cell_type": "code",
   "execution_count": 93,
   "metadata": {},
   "outputs": [],
   "source": [
    "nmf = NMF(50)"
   ]
  },
  {
   "cell_type": "code",
   "execution_count": 95,
   "metadata": {},
   "outputs": [
    {
     "data": {
      "text/plain": [
       "TruncatedSVD(algorithm='randomized', n_components=50, n_iter=5,\n",
       "       random_state=None, tol=0.0)"
      ]
     },
     "execution_count": 95,
     "metadata": {},
     "output_type": "execute_result"
    }
   ],
   "source": [
    "svd.fit(X)"
   ]
  },
  {
   "cell_type": "code",
   "execution_count": 96,
   "metadata": {},
   "outputs": [
    {
     "data": {
      "text/plain": [
       "NMF(alpha=0.0, beta_loss='frobenius', init=None, l1_ratio=0.0, max_iter=200,\n",
       "  n_components=50, random_state=None, shuffle=False, solver='cd',\n",
       "  tol=0.0001, verbose=0)"
      ]
     },
     "execution_count": 96,
     "metadata": {},
     "output_type": "execute_result"
    }
   ],
   "source": [
    "nmf.fit(X)"
   ]
  },
  {
   "cell_type": "code",
   "execution_count": 19,
   "metadata": {},
   "outputs": [],
   "source": [
    "id2vec = nmf.components_.T"
   ]
  },
  {
   "cell_type": "code",
   "execution_count": 20,
   "metadata": {},
   "outputs": [],
   "source": [
    "id2vec = svd.components_.T"
   ]
  },
  {
   "cell_type": "code",
   "execution_count": 119,
   "metadata": {},
   "outputs": [],
   "source": [
    "id2word = {i:w for i,w in enumerate(tfidf.get_feature_names())}\n",
    "word2id = {w:i for i,w in id2word.items()}"
   ]
  },
  {
   "cell_type": "code",
   "execution_count": 22,
   "metadata": {},
   "outputs": [
    {
     "data": {
      "text/plain": [
       "['налоговый',\n",
       " 'налог',\n",
       " 'налогообложение',\n",
       " 'амнистия',\n",
       " 'уплата',\n",
       " 'доход',\n",
       " 'казна',\n",
       " 'стимулирование',\n",
       " 'бремя',\n",
       " 'декрет']"
      ]
     },
     "execution_count": 22,
     "metadata": {},
     "output_type": "execute_result"
    }
   ],
   "source": [
    "[id2word[i] for i in cosine_distances(id2vec[word2id['налоговый']].reshape(1, -1), id2vec).argsort()[0][:10]]"
   ]
  },
  {
   "cell_type": "code",
   "execution_count": 127,
   "metadata": {},
   "outputs": [
    {
     "name": "stdout",
     "output_type": "stream",
     "text": [
      "Init 1/2 with method: k-means++\n"
     ]
    },
    {
     "name": "stderr",
     "output_type": "stream",
     "text": [
      "/usr/local/lib/python3.5/dist-packages/sklearn/cluster/k_means_.py:1556: RuntimeWarning: init_size=300 should be larger than k=500. Setting it to 3*k\n",
      "  init_size=init_size)\n"
     ]
    },
    {
     "name": "stdout",
     "output_type": "stream",
     "text": [
      "Inertia for init 1/2: 0.085021\n",
      "Init 2/2 with method: k-means++\n"
     ]
    },
    {
     "name": "stderr",
     "output_type": "stream",
     "text": [
      "/usr/local/lib/python3.5/dist-packages/sklearn/cluster/k_means_.py:1556: RuntimeWarning: init_size=300 should be larger than k=500. Setting it to 3*k\n",
      "  init_size=init_size)\n"
     ]
    },
    {
     "name": "stdout",
     "output_type": "stream",
     "text": [
      "Inertia for init 2/2: 0.186657\n",
      "Minibatch iteration 1/10000: mean batch inertia: 0.002839, ewa inertia: 0.002839 \n",
      "Minibatch iteration 2/10000: mean batch inertia: 0.001092, ewa inertia: 0.002804 \n",
      "Minibatch iteration 3/10000: mean batch inertia: 0.000949, ewa inertia: 0.002767 \n",
      "Minibatch iteration 4/10000: mean batch inertia: 0.000789, ewa inertia: 0.002728 \n",
      "Minibatch iteration 5/10000: mean batch inertia: 0.001346, ewa inertia: 0.002700 \n",
      "Minibatch iteration 6/10000: mean batch inertia: 0.001524, ewa inertia: 0.002676 \n",
      "Minibatch iteration 7/10000: mean batch inertia: 0.001003, ewa inertia: 0.002643 \n",
      "Minibatch iteration 8/10000: mean batch inertia: 0.000970, ewa inertia: 0.002609 \n",
      "Minibatch iteration 9/10000: mean batch inertia: 0.001068, ewa inertia: 0.002579 \n",
      "[MiniBatchKMeans] Reassigning 50 cluster centers.\n",
      "Minibatch iteration 10/10000: mean batch inertia: 0.000966, ewa inertia: 0.002546 \n",
      "Minibatch iteration 11/10000: mean batch inertia: 0.001519, ewa inertia: 0.002526 \n",
      "Minibatch iteration 12/10000: mean batch inertia: 0.001087, ewa inertia: 0.002497 \n",
      "Minibatch iteration 13/10000: mean batch inertia: 0.001449, ewa inertia: 0.002476 \n",
      "Minibatch iteration 14/10000: mean batch inertia: 0.001076, ewa inertia: 0.002448 \n",
      "Minibatch iteration 15/10000: mean batch inertia: 0.000643, ewa inertia: 0.002412 \n",
      "Minibatch iteration 16/10000: mean batch inertia: 0.002338, ewa inertia: 0.002411 \n",
      "Minibatch iteration 17/10000: mean batch inertia: 0.001098, ewa inertia: 0.002384 \n",
      "Minibatch iteration 18/10000: mean batch inertia: 0.000678, ewa inertia: 0.002350 \n",
      "Minibatch iteration 19/10000: mean batch inertia: 0.000820, ewa inertia: 0.002320 \n",
      "[MiniBatchKMeans] Reassigning 50 cluster centers.\n",
      "Minibatch iteration 20/10000: mean batch inertia: 0.000688, ewa inertia: 0.002287 \n",
      "Minibatch iteration 21/10000: mean batch inertia: 0.006389, ewa inertia: 0.002369 \n",
      "Minibatch iteration 22/10000: mean batch inertia: 0.002709, ewa inertia: 0.002376 \n",
      "Minibatch iteration 23/10000: mean batch inertia: 0.000622, ewa inertia: 0.002341 \n",
      "Minibatch iteration 24/10000: mean batch inertia: 0.000749, ewa inertia: 0.002309 \n",
      "Minibatch iteration 25/10000: mean batch inertia: 0.002572, ewa inertia: 0.002314 \n",
      "Minibatch iteration 26/10000: mean batch inertia: 0.001315, ewa inertia: 0.002294 \n",
      "Minibatch iteration 27/10000: mean batch inertia: 0.000760, ewa inertia: 0.002263 \n",
      "Minibatch iteration 28/10000: mean batch inertia: 0.001955, ewa inertia: 0.002257 \n",
      "Minibatch iteration 29/10000: mean batch inertia: 0.000820, ewa inertia: 0.002229 \n",
      "[MiniBatchKMeans] Reassigning 50 cluster centers.\n",
      "Minibatch iteration 30/10000: mean batch inertia: 0.001047, ewa inertia: 0.002205 \n",
      "Minibatch iteration 31/10000: mean batch inertia: 0.002032, ewa inertia: 0.002201 \n",
      "Minibatch iteration 32/10000: mean batch inertia: 0.001190, ewa inertia: 0.002181 \n",
      "Minibatch iteration 33/10000: mean batch inertia: 0.001516, ewa inertia: 0.002168 \n",
      "Minibatch iteration 34/10000: mean batch inertia: 0.003493, ewa inertia: 0.002194 \n",
      "Minibatch iteration 35/10000: mean batch inertia: 0.001089, ewa inertia: 0.002172 \n",
      "Minibatch iteration 36/10000: mean batch inertia: 0.001110, ewa inertia: 0.002151 \n",
      "Minibatch iteration 37/10000: mean batch inertia: 0.001630, ewa inertia: 0.002141 \n",
      "Minibatch iteration 38/10000: mean batch inertia: 0.003178, ewa inertia: 0.002161 \n",
      "Minibatch iteration 39/10000: mean batch inertia: 0.001088, ewa inertia: 0.002140 \n",
      "[MiniBatchKMeans] Reassigning 50 cluster centers.\n",
      "Minibatch iteration 40/10000: mean batch inertia: 0.001267, ewa inertia: 0.002122 \n",
      "Minibatch iteration 41/10000: mean batch inertia: 0.001554, ewa inertia: 0.002111 \n",
      "Minibatch iteration 42/10000: mean batch inertia: 0.002417, ewa inertia: 0.002117 \n",
      "Minibatch iteration 43/10000: mean batch inertia: 0.005577, ewa inertia: 0.002186 \n",
      "[MiniBatchKMeans] Reassigning 50 cluster centers.\n",
      "Minibatch iteration 44/10000: mean batch inertia: 0.001182, ewa inertia: 0.002166 \n",
      "Minibatch iteration 45/10000: mean batch inertia: 0.001201, ewa inertia: 0.002147 \n",
      "Minibatch iteration 46/10000: mean batch inertia: 0.001139, ewa inertia: 0.002127 \n",
      "Minibatch iteration 47/10000: mean batch inertia: 0.000911, ewa inertia: 0.002103 \n",
      "Minibatch iteration 48/10000: mean batch inertia: 0.004121, ewa inertia: 0.002143 \n",
      "Minibatch iteration 49/10000: mean batch inertia: 0.001766, ewa inertia: 0.002135 \n",
      "Minibatch iteration 50/10000: mean batch inertia: 0.001305, ewa inertia: 0.002119 \n",
      "Minibatch iteration 51/10000: mean batch inertia: 0.003377, ewa inertia: 0.002144 \n",
      "Minibatch iteration 52/10000: mean batch inertia: 0.001015, ewa inertia: 0.002121 \n",
      "Minibatch iteration 53/10000: mean batch inertia: 0.001562, ewa inertia: 0.002110 \n",
      "Minibatch iteration 54/10000: mean batch inertia: 0.001588, ewa inertia: 0.002100 \n",
      "[MiniBatchKMeans] Reassigning 50 cluster centers.\n",
      "Minibatch iteration 55/10000: mean batch inertia: 0.001040, ewa inertia: 0.002079 \n",
      "Minibatch iteration 56/10000: mean batch inertia: 0.001786, ewa inertia: 0.002073 \n",
      "Minibatch iteration 57/10000: mean batch inertia: 0.000722, ewa inertia: 0.002046 \n",
      "Minibatch iteration 58/10000: mean batch inertia: 0.000839, ewa inertia: 0.002022 \n",
      "Minibatch iteration 59/10000: mean batch inertia: 0.002112, ewa inertia: 0.002023 \n",
      "Minibatch iteration 60/10000: mean batch inertia: 0.000840, ewa inertia: 0.002000 \n",
      "Minibatch iteration 61/10000: mean batch inertia: 0.001995, ewa inertia: 0.002000 \n",
      "Minibatch iteration 62/10000: mean batch inertia: 0.000878, ewa inertia: 0.001977 \n",
      "Minibatch iteration 63/10000: mean batch inertia: 0.000627, ewa inertia: 0.001950 \n",
      "Minibatch iteration 64/10000: mean batch inertia: 0.001962, ewa inertia: 0.001950 \n",
      "Minibatch iteration 65/10000: mean batch inertia: 0.001524, ewa inertia: 0.001942 \n",
      "[MiniBatchKMeans] Reassigning 50 cluster centers.\n",
      "Minibatch iteration 66/10000: mean batch inertia: 0.000619, ewa inertia: 0.001915 \n",
      "Minibatch iteration 67/10000: mean batch inertia: 0.002712, ewa inertia: 0.001931 \n",
      "Minibatch iteration 68/10000: mean batch inertia: 0.001205, ewa inertia: 0.001917 \n",
      "Minibatch iteration 69/10000: mean batch inertia: 0.000852, ewa inertia: 0.001895 \n",
      "Minibatch iteration 70/10000: mean batch inertia: 0.004964, ewa inertia: 0.001957 \n",
      "Minibatch iteration 71/10000: mean batch inertia: 0.001058, ewa inertia: 0.001939 \n",
      "[MiniBatchKMeans] Reassigning 50 cluster centers.\n",
      "Minibatch iteration 72/10000: mean batch inertia: 0.000497, ewa inertia: 0.001910 \n",
      "Minibatch iteration 73/10000: mean batch inertia: 0.001990, ewa inertia: 0.001912 \n",
      "Minibatch iteration 74/10000: mean batch inertia: 0.000772, ewa inertia: 0.001889 \n",
      "Minibatch iteration 75/10000: mean batch inertia: 0.001836, ewa inertia: 0.001888 \n",
      "Minibatch iteration 76/10000: mean batch inertia: 0.002271, ewa inertia: 0.001895 \n",
      "Minibatch iteration 77/10000: mean batch inertia: 0.001155, ewa inertia: 0.001881 \n",
      "Minibatch iteration 78/10000: mean batch inertia: 0.001243, ewa inertia: 0.001868 \n",
      "Minibatch iteration 79/10000: mean batch inertia: 0.001783, ewa inertia: 0.001866 \n",
      "Minibatch iteration 80/10000: mean batch inertia: 0.000889, ewa inertia: 0.001847 \n",
      "Minibatch iteration 81/10000: mean batch inertia: 0.001850, ewa inertia: 0.001847 \n",
      "Minibatch iteration 82/10000: mean batch inertia: 0.000804, ewa inertia: 0.001826 \n",
      "Minibatch iteration 83/10000: mean batch inertia: 0.000595, ewa inertia: 0.001801 \n",
      "[MiniBatchKMeans] Reassigning 50 cluster centers.\n",
      "Minibatch iteration 84/10000: mean batch inertia: 0.001265, ewa inertia: 0.001790 \n",
      "Minibatch iteration 85/10000: mean batch inertia: 0.000679, ewa inertia: 0.001768 \n",
      "Minibatch iteration 86/10000: mean batch inertia: 0.001125, ewa inertia: 0.001755 \n",
      "Minibatch iteration 87/10000: mean batch inertia: 0.003328, ewa inertia: 0.001787 \n",
      "Minibatch iteration 88/10000: mean batch inertia: 0.001130, ewa inertia: 0.001774 \n",
      "Minibatch iteration 89/10000: mean batch inertia: 0.005587, ewa inertia: 0.001850 \n",
      "Minibatch iteration 90/10000: mean batch inertia: 0.001271, ewa inertia: 0.001838 \n",
      "[MiniBatchKMeans] Reassigning 50 cluster centers.\n",
      "Minibatch iteration 91/10000: mean batch inertia: 0.000794, ewa inertia: 0.001817 \n",
      "Minibatch iteration 92/10000: mean batch inertia: 0.001433, ewa inertia: 0.001810 \n",
      "Minibatch iteration 93/10000: mean batch inertia: 0.001104, ewa inertia: 0.001796 \n",
      "Minibatch iteration 94/10000: mean batch inertia: 0.001260, ewa inertia: 0.001785 \n",
      "Minibatch iteration 95/10000: mean batch inertia: 0.000618, ewa inertia: 0.001762 \n"
     ]
    },
    {
     "name": "stdout",
     "output_type": "stream",
     "text": [
      "Minibatch iteration 96/10000: mean batch inertia: 0.001080, ewa inertia: 0.001748 \n",
      "Minibatch iteration 97/10000: mean batch inertia: 0.001576, ewa inertia: 0.001745 \n",
      "Minibatch iteration 98/10000: mean batch inertia: 0.000589, ewa inertia: 0.001721 \n",
      "Minibatch iteration 99/10000: mean batch inertia: 0.000601, ewa inertia: 0.001699 \n",
      "Minibatch iteration 100/10000: mean batch inertia: 0.003360, ewa inertia: 0.001732 \n",
      "Minibatch iteration 101/10000: mean batch inertia: 0.002749, ewa inertia: 0.001753 \n",
      "Minibatch iteration 102/10000: mean batch inertia: 0.001112, ewa inertia: 0.001740 \n",
      "Minibatch iteration 103/10000: mean batch inertia: 0.005703, ewa inertia: 0.001819 \n",
      "[MiniBatchKMeans] Reassigning 50 cluster centers.\n",
      "Minibatch iteration 104/10000: mean batch inertia: 0.000650, ewa inertia: 0.001796 \n",
      "Minibatch iteration 105/10000: mean batch inertia: 0.000851, ewa inertia: 0.001777 \n",
      "Minibatch iteration 106/10000: mean batch inertia: 0.001660, ewa inertia: 0.001774 \n",
      "Minibatch iteration 107/10000: mean batch inertia: 0.000887, ewa inertia: 0.001757 \n",
      "Minibatch iteration 108/10000: mean batch inertia: 0.002147, ewa inertia: 0.001765 \n",
      "Minibatch iteration 109/10000: mean batch inertia: 0.001624, ewa inertia: 0.001762 \n",
      "Minibatch iteration 110/10000: mean batch inertia: 0.001983, ewa inertia: 0.001766 \n",
      "Minibatch iteration 111/10000: mean batch inertia: 0.000844, ewa inertia: 0.001748 \n",
      "[MiniBatchKMeans] Reassigning 50 cluster centers.\n",
      "Minibatch iteration 112/10000: mean batch inertia: 0.002963, ewa inertia: 0.001772 \n",
      "Minibatch iteration 113/10000: mean batch inertia: 0.000635, ewa inertia: 0.001749 \n",
      "Minibatch iteration 114/10000: mean batch inertia: 0.000776, ewa inertia: 0.001730 \n",
      "Minibatch iteration 115/10000: mean batch inertia: 0.001491, ewa inertia: 0.001725 \n",
      "Minibatch iteration 116/10000: mean batch inertia: 0.003959, ewa inertia: 0.001770 \n",
      "Minibatch iteration 117/10000: mean batch inertia: 0.004779, ewa inertia: 0.001830 \n",
      "Minibatch iteration 118/10000: mean batch inertia: 0.002199, ewa inertia: 0.001837 \n",
      "Minibatch iteration 119/10000: mean batch inertia: 0.002072, ewa inertia: 0.001842 \n",
      "Minibatch iteration 120/10000: mean batch inertia: 0.004215, ewa inertia: 0.001889 \n",
      "Minibatch iteration 121/10000: mean batch inertia: 0.003780, ewa inertia: 0.001927 \n",
      "Minibatch iteration 122/10000: mean batch inertia: 0.002399, ewa inertia: 0.001937 \n",
      "Minibatch iteration 123/10000: mean batch inertia: 0.001056, ewa inertia: 0.001919 \n",
      "Minibatch iteration 124/10000: mean batch inertia: 0.001866, ewa inertia: 0.001918 \n",
      "Minibatch iteration 125/10000: mean batch inertia: 0.002740, ewa inertia: 0.001934 \n",
      "[MiniBatchKMeans] Reassigning 50 cluster centers.\n",
      "Minibatch iteration 126/10000: mean batch inertia: 0.003062, ewa inertia: 0.001957 \n",
      "Minibatch iteration 127/10000: mean batch inertia: 0.001003, ewa inertia: 0.001938 \n",
      "Minibatch iteration 128/10000: mean batch inertia: 0.002007, ewa inertia: 0.001939 \n",
      "Minibatch iteration 129/10000: mean batch inertia: 0.007357, ewa inertia: 0.002048 \n",
      "Minibatch iteration 130/10000: mean batch inertia: 0.005603, ewa inertia: 0.002119 \n",
      "Minibatch iteration 131/10000: mean batch inertia: 0.002552, ewa inertia: 0.002127 \n",
      "Minibatch iteration 132/10000: mean batch inertia: 0.003595, ewa inertia: 0.002157 \n",
      "Minibatch iteration 133/10000: mean batch inertia: 0.001962, ewa inertia: 0.002153 \n",
      "Minibatch iteration 134/10000: mean batch inertia: 0.001471, ewa inertia: 0.002139 \n",
      "[MiniBatchKMeans] Reassigning 50 cluster centers.\n",
      "Minibatch iteration 135/10000: mean batch inertia: 0.001228, ewa inertia: 0.002121 \n",
      "Minibatch iteration 136/10000: mean batch inertia: 0.000578, ewa inertia: 0.002090 \n",
      "Minibatch iteration 137/10000: mean batch inertia: 0.005289, ewa inertia: 0.002154 \n",
      "Minibatch iteration 138/10000: mean batch inertia: 0.001038, ewa inertia: 0.002132 \n",
      "Minibatch iteration 139/10000: mean batch inertia: 0.001460, ewa inertia: 0.002118 \n",
      "Minibatch iteration 140/10000: mean batch inertia: 0.000915, ewa inertia: 0.002094 \n",
      "Minibatch iteration 141/10000: mean batch inertia: 0.000512, ewa inertia: 0.002063 \n",
      "Minibatch iteration 142/10000: mean batch inertia: 0.000881, ewa inertia: 0.002039 \n",
      "Minibatch iteration 143/10000: mean batch inertia: 0.001694, ewa inertia: 0.002032 \n",
      "[MiniBatchKMeans] Reassigning 50 cluster centers.\n",
      "Minibatch iteration 144/10000: mean batch inertia: 0.002968, ewa inertia: 0.002051 \n",
      "Minibatch iteration 145/10000: mean batch inertia: 0.000915, ewa inertia: 0.002028 \n",
      "Minibatch iteration 146/10000: mean batch inertia: 0.000764, ewa inertia: 0.002003 \n",
      "Minibatch iteration 147/10000: mean batch inertia: 0.004270, ewa inertia: 0.002048 \n",
      "Minibatch iteration 148/10000: mean batch inertia: 0.001390, ewa inertia: 0.002035 \n",
      "Minibatch iteration 149/10000: mean batch inertia: 0.002396, ewa inertia: 0.002042 \n",
      "Minibatch iteration 150/10000: mean batch inertia: 0.001085, ewa inertia: 0.002023 \n",
      "Minibatch iteration 151/10000: mean batch inertia: 0.000958, ewa inertia: 0.002002 \n",
      "Minibatch iteration 152/10000: mean batch inertia: 0.001242, ewa inertia: 0.001987 \n",
      "Minibatch iteration 153/10000: mean batch inertia: 0.002781, ewa inertia: 0.002002 \n",
      "Minibatch iteration 154/10000: mean batch inertia: 0.001020, ewa inertia: 0.001983 \n",
      "Minibatch iteration 155/10000: mean batch inertia: 0.000999, ewa inertia: 0.001963 \n",
      "Minibatch iteration 156/10000: mean batch inertia: 0.001478, ewa inertia: 0.001953 \n",
      "Minibatch iteration 157/10000: mean batch inertia: 0.001467, ewa inertia: 0.001944 \n",
      "Minibatch iteration 158/10000: mean batch inertia: 0.000690, ewa inertia: 0.001919 \n",
      "Minibatch iteration 159/10000: mean batch inertia: 0.001806, ewa inertia: 0.001916 \n",
      "[MiniBatchKMeans] Reassigning 50 cluster centers.\n",
      "Minibatch iteration 160/10000: mean batch inertia: 0.001441, ewa inertia: 0.001907 \n",
      "Minibatch iteration 161/10000: mean batch inertia: 0.000620, ewa inertia: 0.001881 \n",
      "Minibatch iteration 162/10000: mean batch inertia: 0.001538, ewa inertia: 0.001874 \n",
      "Minibatch iteration 163/10000: mean batch inertia: 0.000926, ewa inertia: 0.001855 \n",
      "Minibatch iteration 164/10000: mean batch inertia: 0.001044, ewa inertia: 0.001839 \n",
      "Minibatch iteration 165/10000: mean batch inertia: 0.002826, ewa inertia: 0.001859 \n",
      "Minibatch iteration 166/10000: mean batch inertia: 0.004155, ewa inertia: 0.001905 \n",
      "Minibatch iteration 167/10000: mean batch inertia: 0.000688, ewa inertia: 0.001880 \n",
      "Minibatch iteration 168/10000: mean batch inertia: 0.003581, ewa inertia: 0.001914 \n",
      "Minibatch iteration 169/10000: mean batch inertia: 0.001230, ewa inertia: 0.001901 \n",
      "[MiniBatchKMeans] Reassigning 50 cluster centers.\n",
      "Minibatch iteration 170/10000: mean batch inertia: 0.004844, ewa inertia: 0.001960 \n",
      "Minibatch iteration 171/10000: mean batch inertia: 0.001099, ewa inertia: 0.001942 \n",
      "Minibatch iteration 172/10000: mean batch inertia: 0.003349, ewa inertia: 0.001970 \n",
      "Minibatch iteration 173/10000: mean batch inertia: 0.000567, ewa inertia: 0.001942 \n",
      "Minibatch iteration 174/10000: mean batch inertia: 0.001260, ewa inertia: 0.001929 \n",
      "Minibatch iteration 175/10000: mean batch inertia: 0.002631, ewa inertia: 0.001943 \n",
      "Minibatch iteration 176/10000: mean batch inertia: 0.003398, ewa inertia: 0.001972 \n",
      "Minibatch iteration 177/10000: mean batch inertia: 0.001152, ewa inertia: 0.001956 \n",
      "Minibatch iteration 178/10000: mean batch inertia: 0.002412, ewa inertia: 0.001965 \n",
      "Minibatch iteration 179/10000: mean batch inertia: 0.000937, ewa inertia: 0.001944 \n",
      "[MiniBatchKMeans] Reassigning 50 cluster centers.\n",
      "Minibatch iteration 180/10000: mean batch inertia: 0.006110, ewa inertia: 0.002027 \n",
      "Minibatch iteration 181/10000: mean batch inertia: 0.000691, ewa inertia: 0.002001 \n",
      "Minibatch iteration 182/10000: mean batch inertia: 0.001226, ewa inertia: 0.001985 \n",
      "Minibatch iteration 183/10000: mean batch inertia: 0.002035, ewa inertia: 0.001986 \n",
      "Minibatch iteration 184/10000: mean batch inertia: 0.002391, ewa inertia: 0.001994 \n",
      "Minibatch iteration 185/10000: mean batch inertia: 0.000688, ewa inertia: 0.001968 \n",
      "Minibatch iteration 186/10000: mean batch inertia: 0.000629, ewa inertia: 0.001941 \n",
      "Minibatch iteration 187/10000: mean batch inertia: 0.000597, ewa inertia: 0.001914 \n",
      "Minibatch iteration 188/10000: mean batch inertia: 0.007564, ewa inertia: 0.002027 \n",
      "Minibatch iteration 189/10000: mean batch inertia: 0.001850, ewa inertia: 0.002024 \n",
      "[MiniBatchKMeans] Reassigning 50 cluster centers.\n",
      "Minibatch iteration 190/10000: mean batch inertia: 0.000772, ewa inertia: 0.001999 \n",
      "Minibatch iteration 191/10000: mean batch inertia: 0.000769, ewa inertia: 0.001974 \n",
      "Minibatch iteration 192/10000: mean batch inertia: 0.000965, ewa inertia: 0.001954 \n",
      "Minibatch iteration 193/10000: mean batch inertia: 0.001179, ewa inertia: 0.001939 \n",
      "Minibatch iteration 194/10000: mean batch inertia: 0.000967, ewa inertia: 0.001919 \n",
      "Minibatch iteration 195/10000: mean batch inertia: 0.003411, ewa inertia: 0.001949 \n",
      "Minibatch iteration 196/10000: mean batch inertia: 0.000913, ewa inertia: 0.001928 \n",
      "Minibatch iteration 197/10000: mean batch inertia: 0.001905, ewa inertia: 0.001928 \n"
     ]
    },
    {
     "name": "stdout",
     "output_type": "stream",
     "text": [
      "Minibatch iteration 198/10000: mean batch inertia: 0.001032, ewa inertia: 0.001910 \n",
      "Minibatch iteration 199/10000: mean batch inertia: 0.001195, ewa inertia: 0.001896 \n",
      "Converged (lack of improvement in inertia) at iteration 199/10000\n",
      "Computing label assignment and total inertia\n"
     ]
    },
    {
     "data": {
      "text/plain": [
       "MiniBatchKMeans(batch_size=100, compute_labels=True, init='k-means++',\n",
       "        init_size=None, max_iter=100, max_no_improvement=100,\n",
       "        n_clusters=500, n_init=2, random_state=None,\n",
       "        reassignment_ratio=0.4, tol=0.0, verbose=1)"
      ]
     },
     "execution_count": 127,
     "metadata": {},
     "output_type": "execute_result"
    }
   ],
   "source": [
    "cluster = MiniBatchKMeans(500, n_init=2, verbose=1, max_no_improvement=100, reassignment_ratio=0.4)\n",
    "cluster.fit(svd.components_.T)"
   ]
  },
  {
   "cell_type": "code",
   "execution_count": 128,
   "metadata": {},
   "outputs": [],
   "source": [
    "\n",
    "cls = defaultdict(list)\n",
    "\n",
    "for i, cl in enumerate(cluster.labels_):\n",
    "    cls[cl].append(id2word[i])\n",
    "\n",
    "f = open('cluster_svd.txt', 'w')\n",
    "for cl in cls:\n",
    "    f.write('### '+ str(cl) + ' ###\\n')\n",
    "    f.write('\\n'.join(cls[cl]))\n",
    "    f.write('\\n\\n')\n",
    "f.close()"
   ]
  },
  {
   "cell_type": "code",
   "execution_count": 122,
   "metadata": {},
   "outputs": [],
   "source": [
    "import gensim\n",
    "import numpy as np\n",
    "from sklearn.cluster import MiniBatchKMeans\n",
    "from sklearn.linear_model import LogisticRegression\n",
    "from sklearn.model_selection import train_test_split\n",
    "from sklearn.metrics import classification_report\n",
    "from collections import Counter,defaultdict"
   ]
  },
  {
   "cell_type": "code",
   "execution_count": 176,
   "metadata": {},
   "outputs": [],
   "source": []
  },
  {
   "cell_type": "code",
   "execution_count": 57,
   "metadata": {},
   "outputs": [
    {
     "name": "stderr",
     "output_type": "stream",
     "text": [
      "/usr/local/lib/python3.5/dist-packages/ipykernel_launcher.py:1: DeprecationWarning: Call to deprecated `most_similar` (Method will be removed in 4.0.0, use self.wv.most_similar() instead).\n",
      "  \"\"\"Entry point for launching an IPython kernel.\n",
      "/usr/local/lib/python3.5/dist-packages/gensim/matutils.py:737: FutureWarning: Conversion of the second argument of issubdtype from `int` to `np.signedinteger` is deprecated. In future, it will be treated as `np.int64 == np.dtype(int).type`.\n",
      "  if np.issubdtype(vec.dtype, np.int):\n"
     ]
    },
    {
     "data": {
      "text/plain": [
       "[('налоговый', 0.8855769038200378),\n",
       " ('уплата', 0.8631002902984619),\n",
       " ('подоходный', 0.8487942218780518),\n",
       " ('выплачивать', 0.8414701819419861),\n",
       " ('льгота', 0.8335127234458923),\n",
       " ('выплата', 0.8300567269325256),\n",
       " ('списание', 0.8197252750396729),\n",
       " ('тунеядство', 0.8170132637023926),\n",
       " ('облагаться', 0.8167826533317566),\n",
       " ('доход', 0.8118306398391724)]"
      ]
     },
     "execution_count": 57,
     "metadata": {},
     "output_type": "execute_result"
    }
   ],
   "source": []
  },
  {
   "cell_type": "code",
   "execution_count": 90,
   "metadata": {},
   "outputs": [],
   "source": [
    "data['text_1_norm'] = data['text_1'].apply(normalize)\n",
    "data['text_2_norm'] = data['text_2'].apply(normalize)"
   ]
  },
  {
   "cell_type": "code",
   "execution_count": 97,
   "metadata": {},
   "outputs": [],
   "source": [
    "X_text_1 = svd.transform(tfidf.transform(data['text_1_norm']))\n",
    "X_text_2 = svd.transform(tfidf.transform(data['text_2_norm']))\n",
    "\n",
    "X_text = np.concatenate([X_text_1, X_text_2], axis=1)"
   ]
  },
  {
   "cell_type": "code",
   "execution_count": 149,
   "metadata": {},
   "outputs": [
    {
     "data": {
      "text/plain": [
       "(7227, 400)"
      ]
     },
     "execution_count": 149,
     "metadata": {},
     "output_type": "execute_result"
    }
   ],
   "source": [
    "X_text.shape"
   ]
  },
  {
   "cell_type": "code",
   "execution_count": 99,
   "metadata": {},
   "outputs": [
    {
     "name": "stdout",
     "output_type": "stream",
     "text": [
      "(7227,)\n"
     ]
    }
   ],
   "source": [
    "y = data['label'].values\n",
    "print(y.shape)"
   ]
  },
  {
   "cell_type": "code",
   "execution_count": 100,
   "metadata": {},
   "outputs": [
    {
     "name": "stderr",
     "output_type": "stream",
     "text": [
      "/usr/local/lib/python3.5/dist-packages/sklearn/linear_model/logistic.py:432: FutureWarning: Default solver will be changed to 'lbfgs' in 0.22. Specify a solver to silence this warning.\n",
      "  FutureWarning)\n"
     ]
    },
    {
     "name": "stdout",
     "output_type": "stream",
     "text": [
      "              precision    recall  f1-score   support\n",
      "\n",
      "          -1       0.44      0.42      0.43       629\n",
      "           0       0.43      0.51      0.47       737\n",
      "           1       0.33      0.25      0.29       441\n",
      "\n",
      "   micro avg       0.42      0.42      0.42      1807\n",
      "   macro avg       0.40      0.39      0.39      1807\n",
      "weighted avg       0.41      0.42      0.41      1807\n",
      "\n"
     ]
    }
   ],
   "source": [
    "train_X, valid_X, train_y, valid_y = train_test_split(X_text, y, random_state=1)\n",
    "clf = LogisticRegression(C=1000, class_weight='balanced',  multi_class='auto')\n",
    "clf.fit(train_X, train_y)\n",
    "preds = clf.predict(valid_X)\n",
    "print(classification_report(valid_y, preds))\n"
   ]
  },
  {
   "cell_type": "code",
   "execution_count": 101,
   "metadata": {},
   "outputs": [
    {
     "name": "stdout",
     "output_type": "stream",
     "text": [
      "              precision    recall  f1-score   support\n",
      "\n",
      "          -1       0.58      0.60      0.59       629\n",
      "           0       0.50      0.47      0.48       737\n",
      "           1       0.38      0.41      0.40       441\n",
      "\n",
      "   micro avg       0.50      0.50      0.50      1807\n",
      "   macro avg       0.49      0.49      0.49      1807\n",
      "weighted avg       0.50      0.50      0.50      1807\n",
      "\n"
     ]
    }
   ],
   "source": [
    "train_X, valid_X, train_y, valid_y = train_test_split(X_text, y, random_state=1)\n",
    "clf = RandomForestClassifier(n_estimators=100, max_depth=10, min_samples_leaf=10,\n",
    "                             class_weight='balanced')\n",
    "clf.fit(train_X, train_y)\n",
    "preds = clf.predict(valid_X)\n",
    "print(classification_report(valid_y, preds))\n"
   ]
  },
  {
   "cell_type": "code",
   "execution_count": 102,
   "metadata": {},
   "outputs": [],
   "source": [
    "X_text_1_nmf = nmf.transform(tfidf.transform(data['text_1_norm']))\n",
    "X_text_2_nmf = nmf.transform(tfidf.transform(data['text_2_norm']))\n",
    "\n",
    "X_text_nmf = np.concatenate([X_text_1_nmf, X_text_2_nmf], axis=1)"
   ]
  },
  {
   "cell_type": "code",
   "execution_count": 103,
   "metadata": {},
   "outputs": [
    {
     "name": "stdout",
     "output_type": "stream",
     "text": [
      "              precision    recall  f1-score   support\n",
      "\n",
      "          -1       0.43      0.42      0.43       629\n",
      "           0       0.44      0.53      0.48       737\n",
      "           1       0.32      0.22      0.26       441\n",
      "\n",
      "   micro avg       0.41      0.41      0.41      1807\n",
      "   macro avg       0.39      0.39      0.39      1807\n",
      "weighted avg       0.40      0.41      0.41      1807\n",
      "\n"
     ]
    },
    {
     "name": "stderr",
     "output_type": "stream",
     "text": [
      "/usr/local/lib/python3.5/dist-packages/sklearn/linear_model/logistic.py:432: FutureWarning: Default solver will be changed to 'lbfgs' in 0.22. Specify a solver to silence this warning.\n",
      "  FutureWarning)\n"
     ]
    }
   ],
   "source": [
    "train_X, valid_X, train_y, valid_y = train_test_split(X_text_nmf, y,random_state=1)\n",
    "clf = LogisticRegression(C=10000, class_weight='balanced',  multi_class='auto')\n",
    "clf.fit(train_X, train_y)\n",
    "preds = clf.predict(valid_X)\n",
    "print(classification_report(valid_y, preds))\n"
   ]
  },
  {
   "cell_type": "code",
   "execution_count": 104,
   "metadata": {},
   "outputs": [
    {
     "name": "stdout",
     "output_type": "stream",
     "text": [
      "              precision    recall  f1-score   support\n",
      "\n",
      "          -1       0.51      0.48      0.50       629\n",
      "           0       0.46      0.42      0.44       737\n",
      "           1       0.36      0.44      0.40       441\n",
      "\n",
      "   micro avg       0.45      0.45      0.45      1807\n",
      "   macro avg       0.44      0.45      0.44      1807\n",
      "weighted avg       0.45      0.45      0.45      1807\n",
      "\n"
     ]
    }
   ],
   "source": [
    "train_X, valid_X, train_y, valid_y = train_test_split(X_text_nmf, y,random_state=1)\n",
    "clf = RandomForestClassifier(n_estimators=100, max_depth=7, min_samples_leaf=15,\n",
    "                             class_weight='balanced')\n",
    "clf.fit(train_X, train_y)\n",
    "preds = clf.predict(valid_X)\n",
    "print(classification_report(valid_y, preds))\n"
   ]
  },
  {
   "cell_type": "code",
   "execution_count": 137,
   "metadata": {},
   "outputs": [],
   "source": [
    "fast_text = gensim.models.FastText([text.split() for text in data_rt['content_norm']], size=200, min_n=4, max_n=8)"
   ]
  },
  {
   "cell_type": "code",
   "execution_count": 27,
   "metadata": {},
   "outputs": [],
   "source": [
    "w2v = gensim.models.Word2Vec([text.split() for text in data_rt['content_norm']], size=200, sg=1)\n"
   ]
  },
  {
   "cell_type": "code",
   "execution_count": 28,
   "metadata": {},
   "outputs": [],
   "source": [
    "def get_embedding(text, model, dim):\n",
    "    text = text.split()\n",
    "    words = Counter(text)\n",
    "    total = len(text)\n",
    "    vectors = np.zeros((len(words), dim))\n",
    "    \n",
    "    for i,word in enumerate(words):\n",
    "        try:\n",
    "            v = model[word]\n",
    "            vectors[i] = v*(words[word]/total)\n",
    "        except (KeyError, ValueError):\n",
    "            continue\n",
    "    \n",
    "    if vectors.any():\n",
    "        vector = np.average(vectors, axis=0)\n",
    "    else:\n",
    "        vector = np.zeros((dim))\n",
    "    \n",
    "    return vector\n",
    "        "
   ]
  },
  {
   "cell_type": "code",
   "execution_count": 105,
   "metadata": {},
   "outputs": [
    {
     "name": "stderr",
     "output_type": "stream",
     "text": [
      "/usr/local/lib/python3.5/dist-packages/ipykernel_launcher.py:9: DeprecationWarning: Call to deprecated `__getitem__` (Method will be removed in 4.0.0, use self.wv.__getitem__() instead).\n",
      "  if __name__ == '__main__':\n"
     ]
    }
   ],
   "source": [
    "dim = 200\n",
    "X_text_1_w2v = np.zeros((len(data['text_1_norm']), dim))\n",
    "X_text_2_w2v = np.zeros((len(data['text_2_norm']), dim))\n",
    "\n",
    "for i, text in enumerate(data['text_1_norm'].values):\n",
    "    X_text_1_w2v[i] = get_embedding(text, w2v, dim)\n",
    "    \n",
    "for i, text in enumerate(data['text_2_norm'].values):\n",
    "    X_text_2_w2v[i] = get_embedding(text, w2v, dim)"
   ]
  },
  {
   "cell_type": "code",
   "execution_count": 106,
   "metadata": {},
   "outputs": [],
   "source": [
    "X_text_w2v = np.concatenate([X_text_1_w2v, X_text_2_w2v], axis=1)"
   ]
  },
  {
   "cell_type": "code",
   "execution_count": 107,
   "metadata": {},
   "outputs": [
    {
     "name": "stdout",
     "output_type": "stream",
     "text": [
      "              precision    recall  f1-score   support\n",
      "\n",
      "          -1       0.60      0.45      0.51       663\n",
      "           0       0.46      0.53      0.49       700\n",
      "           1       0.35      0.40      0.38       444\n",
      "\n",
      "   micro avg       0.47      0.47      0.47      1807\n",
      "   macro avg       0.47      0.46      0.46      1807\n",
      "weighted avg       0.48      0.47      0.47      1807\n",
      "\n"
     ]
    }
   ],
   "source": [
    "train_X, valid_X, train_y, valid_y = train_test_split(X_text_w2v, y,random_state=3)\n",
    "clf = RandomForestClassifier(n_estimators=100, max_depth=7, min_samples_leaf=15,\n",
    "                             class_weight='balanced')\n",
    "clf.fit(train_X, train_y)\n",
    "preds = clf.predict(valid_X)\n",
    "print(classification_report(valid_y, preds))\n"
   ]
  },
  {
   "cell_type": "code",
   "execution_count": null,
   "metadata": {},
   "outputs": [],
   "source": []
  },
  {
   "cell_type": "code",
   "execution_count": 108,
   "metadata": {},
   "outputs": [
    {
     "name": "stderr",
     "output_type": "stream",
     "text": [
      "/usr/local/lib/python3.5/dist-packages/sklearn/linear_model/logistic.py:432: FutureWarning: Default solver will be changed to 'lbfgs' in 0.22. Specify a solver to silence this warning.\n",
      "  FutureWarning)\n"
     ]
    },
    {
     "name": "stdout",
     "output_type": "stream",
     "text": [
      "              precision    recall  f1-score   support\n",
      "\n",
      "          -1       0.48      0.50      0.49       629\n",
      "           0       0.44      0.55      0.49       737\n",
      "           1       0.33      0.17      0.23       441\n",
      "\n",
      "   micro avg       0.44      0.44      0.44      1807\n",
      "   macro avg       0.42      0.41      0.40      1807\n",
      "weighted avg       0.43      0.44      0.43      1807\n",
      "\n"
     ]
    }
   ],
   "source": [
    "train_X, valid_X, train_y, valid_y = train_test_split(X_text_w2v, y,random_state=1)\n",
    "clf = LogisticRegression(C=1000,  multi_class='auto')\n",
    "clf.fit(train_X, train_y)\n",
    "preds = clf.predict(valid_X)\n",
    "print(classification_report(valid_y, preds))\n"
   ]
  },
  {
   "cell_type": "code",
   "execution_count": null,
   "metadata": {},
   "outputs": [],
   "source": [
    "X_text_nmf = np.concatenate([X_text_1_nmf, X_text_2_nmf], axis=1)"
   ]
  },
  {
   "cell_type": "code",
   "execution_count": 115,
   "metadata": {},
   "outputs": [
    {
     "name": "stdout",
     "output_type": "stream",
     "text": [
      "6.7863368772822925 1\n"
     ]
    }
   ],
   "source": [
    "i = 5\n",
    "print(fast_text.wv.wmdistance(data['text_1_norm'][i].split(), data['text_2_norm'][i].split()), data['label'][i])"
   ]
  },
  {
   "cell_type": "code",
   "execution_count": 84,
   "metadata": {},
   "outputs": [
    {
     "data": {
      "text/plain": [
       "['полицейский',\n",
       " 'разрешить',\n",
       " 'стрелять',\n",
       " 'поражение',\n",
       " 'гражданин',\n",
       " 'травматика']"
      ]
     },
     "execution_count": 84,
     "metadata": {},
     "output_type": "execute_result"
    }
   ],
   "source": [
    "data['text_2_norm'][0].split()"
   ]
  },
  {
   "cell_type": "code",
   "execution_count": 215,
   "metadata": {},
   "outputs": [
    {
     "ename": "AxisError",
     "evalue": "axis 1 is out of bounds for array of dimension 1",
     "output_type": "error",
     "traceback": [
      "\u001b[0;31m---------------------------------------------------------------------------\u001b[0m",
      "\u001b[0;31mAxisError\u001b[0m                                 Traceback (most recent call last)",
      "\u001b[0;32m<ipython-input-215-66e701d9bf45>\u001b[0m in \u001b[0;36m<module>\u001b[0;34m()\u001b[0m\n\u001b[0;32m----> 1\u001b[0;31m \u001b[0mX_text_w2v\u001b[0m \u001b[0;34m=\u001b[0m \u001b[0mnp\u001b[0m\u001b[0;34m.\u001b[0m\u001b[0mconcatenate\u001b[0m\u001b[0;34m(\u001b[0m\u001b[0;34m[\u001b[0m\u001b[0mX_text_1_w2v\u001b[0m\u001b[0;34m,\u001b[0m \u001b[0mX_text_2_w2v\u001b[0m\u001b[0;34m]\u001b[0m\u001b[0;34m,\u001b[0m \u001b[0maxis\u001b[0m\u001b[0;34m=\u001b[0m\u001b[0;36m1\u001b[0m\u001b[0;34m)\u001b[0m\u001b[0;34m\u001b[0m\u001b[0m\n\u001b[0m",
      "\u001b[0;31mAxisError\u001b[0m: axis 1 is out of bounds for array of dimension 1"
     ]
    }
   ],
   "source": [
    "X_text_w2v = np.concatenate([X_text_1_w2v, X_text_2_w2v], axis=1)"
   ]
  },
  {
   "cell_type": "code",
   "execution_count": 138,
   "metadata": {},
   "outputs": [
    {
     "name": "stderr",
     "output_type": "stream",
     "text": [
      "/usr/local/lib/python3.5/dist-packages/ipykernel_launcher.py:4: DeprecationWarning: Call to deprecated `__contains__` (Method will be removed in 4.0.0, use self.wv.__contains__() instead).\n",
      "  after removing the cwd from sys.path.\n",
      "/usr/local/lib/python3.5/dist-packages/ipykernel_launcher.py:5: DeprecationWarning: Call to deprecated `__getitem__` (Method will be removed in 4.0.0, use self.wv.__getitem__() instead).\n",
      "  \"\"\"\n"
     ]
    }
   ],
   "source": [
    "matrix = np.zeros((len(id2word), 200))\n",
    "\n",
    "for i, word in id2word.items():\n",
    "    if word in fast_text:\n",
    "        matrix[i] = fast_text[word]"
   ]
  },
  {
   "cell_type": "code",
   "execution_count": 139,
   "metadata": {},
   "outputs": [
    {
     "name": "stdout",
     "output_type": "stream",
     "text": [
      "Init 1/2 with method: k-means++\n"
     ]
    },
    {
     "name": "stderr",
     "output_type": "stream",
     "text": [
      "/usr/local/lib/python3.5/dist-packages/sklearn/cluster/k_means_.py:1556: RuntimeWarning: init_size=300 should be larger than k=1000. Setting it to 3*k\n",
      "  init_size=init_size)\n"
     ]
    },
    {
     "name": "stdout",
     "output_type": "stream",
     "text": [
      "Inertia for init 1/2: 2091.569199\n",
      "Init 2/2 with method: k-means++\n"
     ]
    },
    {
     "name": "stderr",
     "output_type": "stream",
     "text": [
      "/usr/local/lib/python3.5/dist-packages/sklearn/cluster/k_means_.py:1556: RuntimeWarning: init_size=300 should be larger than k=1000. Setting it to 3*k\n",
      "  init_size=init_size)\n"
     ]
    },
    {
     "name": "stdout",
     "output_type": "stream",
     "text": [
      "Inertia for init 2/2: 2654.220768\n",
      "Minibatch iteration 1/10000: mean batch inertia: 44.127543, ewa inertia: 44.127543 \n",
      "Minibatch iteration 2/10000: mean batch inertia: 37.804940, ewa inertia: 44.001103 \n",
      "Minibatch iteration 3/10000: mean batch inertia: 38.688051, ewa inertia: 43.894853 \n",
      "Minibatch iteration 4/10000: mean batch inertia: 26.969574, ewa inertia: 43.556381 \n",
      "Minibatch iteration 5/10000: mean batch inertia: 37.426144, ewa inertia: 43.433789 \n",
      "Minibatch iteration 6/10000: mean batch inertia: 34.219725, ewa inertia: 43.249526 \n",
      "Minibatch iteration 7/10000: mean batch inertia: 37.154670, ewa inertia: 43.127641 \n",
      "Minibatch iteration 8/10000: mean batch inertia: 36.273954, ewa inertia: 42.990581 \n",
      "Minibatch iteration 9/10000: mean batch inertia: 30.231793, ewa inertia: 42.735431 \n",
      "[MiniBatchKMeans] Reassigning 50 cluster centers.\n",
      "Minibatch iteration 10/10000: mean batch inertia: 28.715429, ewa inertia: 42.455059 \n",
      "Minibatch iteration 11/10000: mean batch inertia: 46.815302, ewa inertia: 42.542255 \n",
      "Minibatch iteration 12/10000: mean batch inertia: 30.450614, ewa inertia: 42.300446 \n",
      "Minibatch iteration 13/10000: mean batch inertia: 40.035512, ewa inertia: 42.255152 \n",
      "Minibatch iteration 14/10000: mean batch inertia: 37.232201, ewa inertia: 42.154703 \n",
      "Minibatch iteration 15/10000: mean batch inertia: 37.955555, ewa inertia: 42.070728 \n",
      "Minibatch iteration 16/10000: mean batch inertia: 40.043021, ewa inertia: 42.030178 \n",
      "Minibatch iteration 17/10000: mean batch inertia: 39.688785, ewa inertia: 41.983355 \n",
      "Minibatch iteration 18/10000: mean batch inertia: 49.253606, ewa inertia: 42.128746 \n",
      "Minibatch iteration 19/10000: mean batch inertia: 44.693704, ewa inertia: 42.180040 \n",
      "[MiniBatchKMeans] Reassigning 50 cluster centers.\n",
      "Minibatch iteration 20/10000: mean batch inertia: 43.404637, ewa inertia: 42.204529 \n",
      "Minibatch iteration 21/10000: mean batch inertia: 60.003607, ewa inertia: 42.560475 \n",
      "Minibatch iteration 22/10000: mean batch inertia: 48.306151, ewa inertia: 42.675377 \n",
      "Minibatch iteration 23/10000: mean batch inertia: 38.317760, ewa inertia: 42.588233 \n",
      "Minibatch iteration 24/10000: mean batch inertia: 28.868378, ewa inertia: 42.313864 \n",
      "Minibatch iteration 25/10000: mean batch inertia: 31.705296, ewa inertia: 42.101714 \n",
      "Minibatch iteration 26/10000: mean batch inertia: 39.136537, ewa inertia: 42.042416 \n",
      "Minibatch iteration 27/10000: mean batch inertia: 34.975668, ewa inertia: 41.901095 \n",
      "Minibatch iteration 28/10000: mean batch inertia: 35.649220, ewa inertia: 41.776070 \n",
      "Minibatch iteration 29/10000: mean batch inertia: 42.936677, ewa inertia: 41.799280 \n",
      "[MiniBatchKMeans] Reassigning 50 cluster centers.\n",
      "Minibatch iteration 30/10000: mean batch inertia: 29.660630, ewa inertia: 41.556531 \n",
      "Minibatch iteration 31/10000: mean batch inertia: 32.857915, ewa inertia: 41.382576 \n",
      "Minibatch iteration 32/10000: mean batch inertia: 43.752440, ewa inertia: 41.429969 \n",
      "Minibatch iteration 33/10000: mean batch inertia: 33.601699, ewa inertia: 41.273419 \n",
      "Minibatch iteration 34/10000: mean batch inertia: 26.900939, ewa inertia: 40.985998 \n",
      "Minibatch iteration 35/10000: mean batch inertia: 32.301522, ewa inertia: 40.812326 \n",
      "Minibatch iteration 36/10000: mean batch inertia: 30.257668, ewa inertia: 40.601254 \n",
      "Minibatch iteration 37/10000: mean batch inertia: 54.260269, ewa inertia: 40.874407 \n",
      "Minibatch iteration 38/10000: mean batch inertia: 32.318826, ewa inertia: 40.703313 \n",
      "Minibatch iteration 39/10000: mean batch inertia: 36.096470, ewa inertia: 40.611185 \n",
      "[MiniBatchKMeans] Reassigning 50 cluster centers.\n",
      "Minibatch iteration 40/10000: mean batch inertia: 24.667534, ewa inertia: 40.292344 \n",
      "Minibatch iteration 41/10000: mean batch inertia: 32.462190, ewa inertia: 40.135756 \n",
      "Minibatch iteration 42/10000: mean batch inertia: 25.239428, ewa inertia: 39.837860 \n",
      "Minibatch iteration 43/10000: mean batch inertia: 27.243194, ewa inertia: 39.585991 \n",
      "Minibatch iteration 44/10000: mean batch inertia: 28.330179, ewa inertia: 39.360898 \n",
      "Minibatch iteration 45/10000: mean batch inertia: 33.006883, ewa inertia: 39.233830 \n",
      "Minibatch iteration 46/10000: mean batch inertia: 27.574116, ewa inertia: 39.000659 \n",
      "Minibatch iteration 47/10000: mean batch inertia: 33.207172, ewa inertia: 38.884801 \n",
      "Minibatch iteration 48/10000: mean batch inertia: 29.061886, ewa inertia: 38.688362 \n",
      "Minibatch iteration 49/10000: mean batch inertia: 28.794059, ewa inertia: 38.490496 \n",
      "[MiniBatchKMeans] Reassigning 50 cluster centers.\n",
      "Minibatch iteration 50/10000: mean batch inertia: 46.777094, ewa inertia: 38.656211 \n",
      "Minibatch iteration 51/10000: mean batch inertia: 34.415793, ewa inertia: 38.571412 \n",
      "Minibatch iteration 52/10000: mean batch inertia: 29.477703, ewa inertia: 38.389556 \n",
      "Minibatch iteration 53/10000: mean batch inertia: 27.162113, ewa inertia: 38.165029 \n",
      "Minibatch iteration 54/10000: mean batch inertia: 27.016137, ewa inertia: 37.942074 \n",
      "Minibatch iteration 55/10000: mean batch inertia: 27.057187, ewa inertia: 37.724398 \n",
      "Minibatch iteration 56/10000: mean batch inertia: 36.493637, ewa inertia: 37.699785 \n",
      "Minibatch iteration 57/10000: mean batch inertia: 38.244612, ewa inertia: 37.710680 \n",
      "Minibatch iteration 58/10000: mean batch inertia: 46.599775, ewa inertia: 37.888444 \n",
      "Minibatch iteration 59/10000: mean batch inertia: 26.146010, ewa inertia: 37.653619 \n",
      "[MiniBatchKMeans] Reassigning 50 cluster centers.\n",
      "Minibatch iteration 60/10000: mean batch inertia: 57.438775, ewa inertia: 38.049283 \n",
      "Minibatch iteration 61/10000: mean batch inertia: 33.527328, ewa inertia: 37.958853 \n",
      "Minibatch iteration 62/10000: mean batch inertia: 38.187315, ewa inertia: 37.963422 \n",
      "Minibatch iteration 63/10000: mean batch inertia: 34.721385, ewa inertia: 37.898587 \n",
      "Minibatch iteration 64/10000: mean batch inertia: 24.743562, ewa inertia: 37.635513 \n",
      "Minibatch iteration 65/10000: mean batch inertia: 41.882441, ewa inertia: 37.720443 \n",
      "Minibatch iteration 66/10000: mean batch inertia: 37.163685, ewa inertia: 37.709309 \n",
      "Minibatch iteration 67/10000: mean batch inertia: 35.323951, ewa inertia: 37.661607 \n",
      "Minibatch iteration 68/10000: mean batch inertia: 31.808634, ewa inertia: 37.544559 \n",
      "Minibatch iteration 69/10000: mean batch inertia: 59.626454, ewa inertia: 37.986153 \n",
      "[MiniBatchKMeans] Reassigning 50 cluster centers.\n",
      "Minibatch iteration 70/10000: mean batch inertia: 25.098421, ewa inertia: 37.728424 \n",
      "Minibatch iteration 71/10000: mean batch inertia: 30.479987, ewa inertia: 37.583470 \n",
      "Minibatch iteration 72/10000: mean batch inertia: 30.748694, ewa inertia: 37.446788 \n",
      "Minibatch iteration 73/10000: mean batch inertia: 29.632045, ewa inertia: 37.290509 \n",
      "Minibatch iteration 74/10000: mean batch inertia: 26.871841, ewa inertia: 37.082156 \n",
      "Minibatch iteration 75/10000: mean batch inertia: 35.860123, ewa inertia: 37.057718 \n",
      "Minibatch iteration 76/10000: mean batch inertia: 24.725876, ewa inertia: 36.811106 \n",
      "Minibatch iteration 77/10000: mean batch inertia: 36.911880, ewa inertia: 36.813121 \n",
      "Minibatch iteration 78/10000: mean batch inertia: 31.736762, ewa inertia: 36.711604 \n",
      "Minibatch iteration 79/10000: mean batch inertia: 25.877054, ewa inertia: 36.494935 \n",
      "[MiniBatchKMeans] Reassigning 50 cluster centers.\n",
      "Minibatch iteration 80/10000: mean batch inertia: 32.161899, ewa inertia: 36.408283 \n",
      "Minibatch iteration 81/10000: mean batch inertia: 32.478356, ewa inertia: 36.329692 \n",
      "Minibatch iteration 82/10000: mean batch inertia: 34.070048, ewa inertia: 36.284503 \n",
      "Minibatch iteration 83/10000: mean batch inertia: 30.340614, ewa inertia: 36.165638 \n",
      "Minibatch iteration 84/10000: mean batch inertia: 36.907986, ewa inertia: 36.180483 \n",
      "Minibatch iteration 85/10000: mean batch inertia: 29.676674, ewa inertia: 36.050420 \n",
      "Minibatch iteration 86/10000: mean batch inertia: 29.845502, ewa inertia: 35.926334 \n",
      "Minibatch iteration 87/10000: mean batch inertia: 30.992126, ewa inertia: 35.827660 \n",
      "Minibatch iteration 88/10000: mean batch inertia: 30.339420, ewa inertia: 35.717906 \n",
      "Minibatch iteration 89/10000: mean batch inertia: 34.700319, ewa inertia: 35.697556 \n",
      "[MiniBatchKMeans] Reassigning 50 cluster centers.\n",
      "Minibatch iteration 90/10000: mean batch inertia: 26.712245, ewa inertia: 35.517868 \n",
      "Minibatch iteration 91/10000: mean batch inertia: 38.177930, ewa inertia: 35.571064 \n",
      "Minibatch iteration 92/10000: mean batch inertia: 33.829684, ewa inertia: 35.536240 \n",
      "Minibatch iteration 93/10000: mean batch inertia: 27.435679, ewa inertia: 35.374245 \n",
      "Minibatch iteration 94/10000: mean batch inertia: 30.406236, ewa inertia: 35.274894 \n",
      "Minibatch iteration 95/10000: mean batch inertia: 29.222193, ewa inertia: 35.153853 \n",
      "Minibatch iteration 96/10000: mean batch inertia: 37.276831, ewa inertia: 35.196308 \n",
      "Minibatch iteration 97/10000: mean batch inertia: 29.172559, ewa inertia: 35.075845 \n",
      "Minibatch iteration 98/10000: mean batch inertia: 33.022069, ewa inertia: 35.034774 \n",
      "[MiniBatchKMeans] Reassigning 50 cluster centers.\n",
      "Minibatch iteration 99/10000: mean batch inertia: 26.716685, ewa inertia: 34.868428 \n",
      "Minibatch iteration 100/10000: mean batch inertia: 33.791761, ewa inertia: 34.846897 \n",
      "Minibatch iteration 101/10000: mean batch inertia: 25.730701, ewa inertia: 34.664591 \n",
      "Minibatch iteration 102/10000: mean batch inertia: 30.432238, ewa inertia: 34.579953 \n",
      "Minibatch iteration 103/10000: mean batch inertia: 31.860986, ewa inertia: 34.525579 \n",
      "Minibatch iteration 104/10000: mean batch inertia: 30.205430, ewa inertia: 34.439185 \n"
     ]
    },
    {
     "name": "stdout",
     "output_type": "stream",
     "text": [
      "Minibatch iteration 105/10000: mean batch inertia: 30.369461, ewa inertia: 34.357798 \n",
      "Minibatch iteration 106/10000: mean batch inertia: 27.911005, ewa inertia: 34.228875 \n",
      "Minibatch iteration 107/10000: mean batch inertia: 34.357855, ewa inertia: 34.231455 \n",
      "Minibatch iteration 108/10000: mean batch inertia: 32.949968, ewa inertia: 34.205827 \n",
      "Minibatch iteration 109/10000: mean batch inertia: 34.544193, ewa inertia: 34.212594 \n",
      "[MiniBatchKMeans] Reassigning 50 cluster centers.\n",
      "Minibatch iteration 110/10000: mean batch inertia: 29.845598, ewa inertia: 34.125263 \n",
      "Minibatch iteration 111/10000: mean batch inertia: 29.377149, ewa inertia: 34.030310 \n",
      "Minibatch iteration 112/10000: mean batch inertia: 34.717326, ewa inertia: 34.044049 \n",
      "Minibatch iteration 113/10000: mean batch inertia: 24.921046, ewa inertia: 33.861607 \n",
      "Minibatch iteration 114/10000: mean batch inertia: 30.813571, ewa inertia: 33.800653 \n",
      "Minibatch iteration 115/10000: mean batch inertia: 27.581700, ewa inertia: 33.676286 \n",
      "Minibatch iteration 116/10000: mean batch inertia: 29.184378, ewa inertia: 33.586457 \n",
      "Minibatch iteration 117/10000: mean batch inertia: 36.313098, ewa inertia: 33.640984 \n",
      "Minibatch iteration 118/10000: mean batch inertia: 32.853907, ewa inertia: 33.625244 \n",
      "Minibatch iteration 119/10000: mean batch inertia: 24.517391, ewa inertia: 33.443105 \n",
      "Minibatch iteration 120/10000: mean batch inertia: 38.342434, ewa inertia: 33.541082 \n",
      "[MiniBatchKMeans] Reassigning 50 cluster centers.\n",
      "Minibatch iteration 121/10000: mean batch inertia: 29.627487, ewa inertia: 33.462818 \n",
      "Minibatch iteration 122/10000: mean batch inertia: 40.224444, ewa inertia: 33.598037 \n",
      "Minibatch iteration 123/10000: mean batch inertia: 36.599568, ewa inertia: 33.658062 \n",
      "Minibatch iteration 124/10000: mean batch inertia: 28.207695, ewa inertia: 33.549065 \n",
      "Minibatch iteration 125/10000: mean batch inertia: 30.144345, ewa inertia: 33.480978 \n",
      "Minibatch iteration 126/10000: mean batch inertia: 30.699335, ewa inertia: 33.425350 \n",
      "Minibatch iteration 127/10000: mean batch inertia: 36.258190, ewa inertia: 33.482002 \n",
      "Minibatch iteration 128/10000: mean batch inertia: 35.798541, ewa inertia: 33.528328 \n",
      "Minibatch iteration 129/10000: mean batch inertia: 40.413155, ewa inertia: 33.666010 \n",
      "Minibatch iteration 130/10000: mean batch inertia: 32.413708, ewa inertia: 33.640967 \n",
      "Minibatch iteration 131/10000: mean batch inertia: 40.039090, ewa inertia: 33.768917 \n",
      "[MiniBatchKMeans] Reassigning 50 cluster centers.\n",
      "Minibatch iteration 132/10000: mean batch inertia: 34.964257, ewa inertia: 33.792821 \n",
      "Minibatch iteration 133/10000: mean batch inertia: 29.852231, ewa inertia: 33.714017 \n",
      "Minibatch iteration 134/10000: mean batch inertia: 29.814235, ewa inertia: 33.636029 \n",
      "Minibatch iteration 135/10000: mean batch inertia: 26.024492, ewa inertia: 33.483814 \n",
      "Minibatch iteration 136/10000: mean batch inertia: 37.045135, ewa inertia: 33.555033 \n",
      "Minibatch iteration 137/10000: mean batch inertia: 35.668653, ewa inertia: 33.597301 \n",
      "Minibatch iteration 138/10000: mean batch inertia: 29.758481, ewa inertia: 33.520532 \n",
      "Minibatch iteration 139/10000: mean batch inertia: 27.954312, ewa inertia: 33.409219 \n",
      "Minibatch iteration 140/10000: mean batch inertia: 25.948001, ewa inertia: 33.260010 \n",
      "Minibatch iteration 141/10000: mean batch inertia: 27.891522, ewa inertia: 33.152651 \n",
      "Minibatch iteration 142/10000: mean batch inertia: 30.570970, ewa inertia: 33.101022 \n",
      "[MiniBatchKMeans] Reassigning 50 cluster centers.\n",
      "Minibatch iteration 143/10000: mean batch inertia: 40.311422, ewa inertia: 33.245216 \n",
      "Minibatch iteration 144/10000: mean batch inertia: 29.080837, ewa inertia: 33.161937 \n",
      "Minibatch iteration 145/10000: mean batch inertia: 27.628605, ewa inertia: 33.051281 \n",
      "Minibatch iteration 146/10000: mean batch inertia: 31.149315, ewa inertia: 33.013246 \n",
      "Minibatch iteration 147/10000: mean batch inertia: 29.574939, ewa inertia: 32.944486 \n",
      "Minibatch iteration 148/10000: mean batch inertia: 29.894242, ewa inertia: 32.883487 \n",
      "Minibatch iteration 149/10000: mean batch inertia: 40.008418, ewa inertia: 33.025972 \n",
      "Minibatch iteration 150/10000: mean batch inertia: 32.660743, ewa inertia: 33.018668 \n",
      "Minibatch iteration 151/10000: mean batch inertia: 32.320076, ewa inertia: 33.004698 \n",
      "Minibatch iteration 152/10000: mean batch inertia: 32.068245, ewa inertia: 32.985970 \n",
      "Minibatch iteration 153/10000: mean batch inertia: 28.810535, ewa inertia: 32.902470 \n",
      "[MiniBatchKMeans] Reassigning 50 cluster centers.\n",
      "Minibatch iteration 154/10000: mean batch inertia: 28.845329, ewa inertia: 32.821335 \n",
      "Minibatch iteration 155/10000: mean batch inertia: 25.382245, ewa inertia: 32.672568 \n",
      "Minibatch iteration 156/10000: mean batch inertia: 29.104527, ewa inertia: 32.601215 \n",
      "Minibatch iteration 157/10000: mean batch inertia: 28.066537, ewa inertia: 32.510530 \n",
      "Minibatch iteration 158/10000: mean batch inertia: 27.203788, ewa inertia: 32.404406 \n",
      "Minibatch iteration 159/10000: mean batch inertia: 24.137715, ewa inertia: 32.239089 \n",
      "Minibatch iteration 160/10000: mean batch inertia: 22.841672, ewa inertia: 32.051159 \n",
      "Minibatch iteration 161/10000: mean batch inertia: 27.649667, ewa inertia: 31.963138 \n",
      "Minibatch iteration 162/10000: mean batch inertia: 30.774181, ewa inertia: 31.939361 \n",
      "Minibatch iteration 163/10000: mean batch inertia: 26.537333, ewa inertia: 31.831332 \n",
      "Minibatch iteration 164/10000: mean batch inertia: 31.798207, ewa inertia: 31.830669 \n",
      "[MiniBatchKMeans] Reassigning 50 cluster centers.\n",
      "Minibatch iteration 165/10000: mean batch inertia: 32.420074, ewa inertia: 31.842456 \n",
      "Minibatch iteration 166/10000: mean batch inertia: 25.630347, ewa inertia: 31.718226 \n",
      "Minibatch iteration 167/10000: mean batch inertia: 27.441450, ewa inertia: 31.632699 \n",
      "[MiniBatchKMeans] Reassigning 50 cluster centers.\n",
      "Minibatch iteration 168/10000: mean batch inertia: 25.910369, ewa inertia: 31.518264 \n",
      "Minibatch iteration 169/10000: mean batch inertia: 27.686091, ewa inertia: 31.441628 \n",
      "Minibatch iteration 170/10000: mean batch inertia: 33.275510, ewa inertia: 31.478302 \n",
      "Minibatch iteration 171/10000: mean batch inertia: 24.865414, ewa inertia: 31.346058 \n",
      "Minibatch iteration 172/10000: mean batch inertia: 40.302565, ewa inertia: 31.525170 \n",
      "Minibatch iteration 173/10000: mean batch inertia: 29.581476, ewa inertia: 31.486300 \n",
      "Minibatch iteration 174/10000: mean batch inertia: 34.634219, ewa inertia: 31.549252 \n",
      "Minibatch iteration 175/10000: mean batch inertia: 30.618218, ewa inertia: 31.530633 \n",
      "Minibatch iteration 176/10000: mean batch inertia: 27.345490, ewa inertia: 31.446939 \n",
      "Minibatch iteration 177/10000: mean batch inertia: 35.800430, ewa inertia: 31.534000 \n",
      "Minibatch iteration 178/10000: mean batch inertia: 24.271824, ewa inertia: 31.388771 \n",
      "Minibatch iteration 179/10000: mean batch inertia: 28.563563, ewa inertia: 31.332272 \n",
      "[MiniBatchKMeans] Reassigning 50 cluster centers.\n",
      "Minibatch iteration 180/10000: mean batch inertia: 29.794174, ewa inertia: 31.301514 \n",
      "Minibatch iteration 181/10000: mean batch inertia: 34.771603, ewa inertia: 31.370908 \n",
      "Minibatch iteration 182/10000: mean batch inertia: 42.633393, ewa inertia: 31.596136 \n",
      "Minibatch iteration 183/10000: mean batch inertia: 37.823117, ewa inertia: 31.720663 \n",
      "Minibatch iteration 184/10000: mean batch inertia: 29.587767, ewa inertia: 31.678009 \n",
      "Minibatch iteration 185/10000: mean batch inertia: 47.077140, ewa inertia: 31.985961 \n",
      "Minibatch iteration 186/10000: mean batch inertia: 32.773905, ewa inertia: 32.001718 \n",
      "Minibatch iteration 187/10000: mean batch inertia: 28.708848, ewa inertia: 31.935867 \n",
      "Minibatch iteration 188/10000: mean batch inertia: 32.068542, ewa inertia: 31.938521 \n",
      "Minibatch iteration 189/10000: mean batch inertia: 50.494216, ewa inertia: 32.309597 \n",
      "Minibatch iteration 190/10000: mean batch inertia: 29.662019, ewa inertia: 32.256651 \n",
      "Minibatch iteration 191/10000: mean batch inertia: 36.541195, ewa inertia: 32.342333 \n",
      "[MiniBatchKMeans] Reassigning 50 cluster centers.\n",
      "Minibatch iteration 192/10000: mean batch inertia: 27.804899, ewa inertia: 32.251594 \n",
      "Minibatch iteration 193/10000: mean batch inertia: 29.769397, ewa inertia: 32.201955 \n",
      "Minibatch iteration 194/10000: mean batch inertia: 35.954529, ewa inertia: 32.276999 \n",
      "Minibatch iteration 195/10000: mean batch inertia: 33.742981, ewa inertia: 32.306316 \n",
      "Minibatch iteration 196/10000: mean batch inertia: 42.827429, ewa inertia: 32.516717 \n",
      "Minibatch iteration 197/10000: mean batch inertia: 26.893026, ewa inertia: 32.404254 \n",
      "Minibatch iteration 198/10000: mean batch inertia: 31.101112, ewa inertia: 32.378194 \n",
      "Minibatch iteration 199/10000: mean batch inertia: 37.626903, ewa inertia: 32.483158 \n",
      "Minibatch iteration 200/10000: mean batch inertia: 32.469567, ewa inertia: 32.482886 \n"
     ]
    },
    {
     "name": "stdout",
     "output_type": "stream",
     "text": [
      "Minibatch iteration 201/10000: mean batch inertia: 39.479277, ewa inertia: 32.622800 \n",
      "Minibatch iteration 202/10000: mean batch inertia: 36.517420, ewa inertia: 32.700684 \n",
      "Minibatch iteration 203/10000: mean batch inertia: 31.273548, ewa inertia: 32.672144 \n",
      "[MiniBatchKMeans] Reassigning 50 cluster centers.\n",
      "Minibatch iteration 204/10000: mean batch inertia: 33.671338, ewa inertia: 32.692126 \n",
      "Minibatch iteration 205/10000: mean batch inertia: 22.457188, ewa inertia: 32.487448 \n",
      "Minibatch iteration 206/10000: mean batch inertia: 38.101097, ewa inertia: 32.599710 \n",
      "Minibatch iteration 207/10000: mean batch inertia: 34.399462, ewa inertia: 32.635701 \n",
      "Minibatch iteration 208/10000: mean batch inertia: 38.598266, ewa inertia: 32.754941 \n",
      "Minibatch iteration 209/10000: mean batch inertia: 26.187133, ewa inertia: 32.623598 \n",
      "Minibatch iteration 210/10000: mean batch inertia: 33.061973, ewa inertia: 32.632364 \n",
      "Minibatch iteration 211/10000: mean batch inertia: 23.232047, ewa inertia: 32.444377 \n",
      "Minibatch iteration 212/10000: mean batch inertia: 33.937783, ewa inertia: 32.474242 \n",
      "Minibatch iteration 213/10000: mean batch inertia: 28.808097, ewa inertia: 32.400926 \n",
      "Minibatch iteration 214/10000: mean batch inertia: 35.442801, ewa inertia: 32.461758 \n",
      "Minibatch iteration 215/10000: mean batch inertia: 26.939083, ewa inertia: 32.351315 \n",
      "[MiniBatchKMeans] Reassigning 50 cluster centers.\n",
      "Minibatch iteration 216/10000: mean batch inertia: 37.481183, ewa inertia: 32.453902 \n",
      "Minibatch iteration 217/10000: mean batch inertia: 29.611663, ewa inertia: 32.397063 \n",
      "Minibatch iteration 218/10000: mean batch inertia: 31.766434, ewa inertia: 32.384452 \n",
      "Minibatch iteration 219/10000: mean batch inertia: 29.693510, ewa inertia: 32.330638 \n",
      "Minibatch iteration 220/10000: mean batch inertia: 44.361804, ewa inertia: 32.571238 \n",
      "[MiniBatchKMeans] Reassigning 50 cluster centers.\n",
      "Minibatch iteration 221/10000: mean batch inertia: 28.478577, ewa inertia: 32.489393 \n",
      "Minibatch iteration 222/10000: mean batch inertia: 45.895970, ewa inertia: 32.757497 \n",
      "Minibatch iteration 223/10000: mean batch inertia: 40.921911, ewa inertia: 32.920769 \n",
      "Minibatch iteration 224/10000: mean batch inertia: 28.681420, ewa inertia: 32.835991 \n",
      "Minibatch iteration 225/10000: mean batch inertia: 29.525057, ewa inertia: 32.769779 \n",
      "Minibatch iteration 226/10000: mean batch inertia: 30.175781, ewa inertia: 32.717904 \n",
      "Minibatch iteration 227/10000: mean batch inertia: 28.954669, ewa inertia: 32.642647 \n",
      "Minibatch iteration 228/10000: mean batch inertia: 31.426666, ewa inertia: 32.618330 \n",
      "Minibatch iteration 229/10000: mean batch inertia: 22.551564, ewa inertia: 32.417014 \n",
      "Minibatch iteration 230/10000: mean batch inertia: 26.051845, ewa inertia: 32.289724 \n",
      "Minibatch iteration 231/10000: mean batch inertia: 48.642724, ewa inertia: 32.616751 \n",
      "Minibatch iteration 232/10000: mean batch inertia: 33.627764, ewa inertia: 32.636969 \n",
      "Minibatch iteration 233/10000: mean batch inertia: 35.566076, ewa inertia: 32.695546 \n",
      "[MiniBatchKMeans] Reassigning 50 cluster centers.\n",
      "Minibatch iteration 234/10000: mean batch inertia: 31.019550, ewa inertia: 32.662029 \n",
      "Minibatch iteration 235/10000: mean batch inertia: 28.707631, ewa inertia: 32.582949 \n",
      "Minibatch iteration 236/10000: mean batch inertia: 32.016109, ewa inertia: 32.571613 \n",
      "Minibatch iteration 237/10000: mean batch inertia: 35.941731, ewa inertia: 32.639009 \n",
      "Minibatch iteration 238/10000: mean batch inertia: 34.886136, ewa inertia: 32.683947 \n",
      "Minibatch iteration 239/10000: mean batch inertia: 39.160374, ewa inertia: 32.813463 \n",
      "Minibatch iteration 240/10000: mean batch inertia: 32.877401, ewa inertia: 32.814741 \n",
      "Minibatch iteration 241/10000: mean batch inertia: 30.045803, ewa inertia: 32.759368 \n",
      "Minibatch iteration 242/10000: mean batch inertia: 23.702840, ewa inertia: 32.578256 \n",
      "Minibatch iteration 243/10000: mean batch inertia: 34.079879, ewa inertia: 32.608285 \n",
      "Minibatch iteration 244/10000: mean batch inertia: 31.921096, ewa inertia: 32.594543 \n",
      "Minibatch iteration 245/10000: mean batch inertia: 24.627006, ewa inertia: 32.435208 \n",
      "Minibatch iteration 246/10000: mean batch inertia: 32.796658, ewa inertia: 32.442436 \n",
      "[MiniBatchKMeans] Reassigning 50 cluster centers.\n",
      "Minibatch iteration 247/10000: mean batch inertia: 31.397988, ewa inertia: 32.421549 \n",
      "Minibatch iteration 248/10000: mean batch inertia: 31.263057, ewa inertia: 32.398382 \n",
      "Minibatch iteration 249/10000: mean batch inertia: 29.521442, ewa inertia: 32.340849 \n",
      "Minibatch iteration 250/10000: mean batch inertia: 29.238615, ewa inertia: 32.278810 \n",
      "Minibatch iteration 251/10000: mean batch inertia: 26.737392, ewa inertia: 32.167993 \n",
      "Minibatch iteration 252/10000: mean batch inertia: 40.195619, ewa inertia: 32.328529 \n",
      "Minibatch iteration 253/10000: mean batch inertia: 40.712759, ewa inertia: 32.496197 \n",
      "Minibatch iteration 254/10000: mean batch inertia: 34.409218, ewa inertia: 32.534454 \n",
      "Minibatch iteration 255/10000: mean batch inertia: 29.575944, ewa inertia: 32.475289 \n",
      "Minibatch iteration 256/10000: mean batch inertia: 23.751542, ewa inertia: 32.300832 \n",
      "Minibatch iteration 257/10000: mean batch inertia: 28.417537, ewa inertia: 32.223174 \n",
      "Minibatch iteration 258/10000: mean batch inertia: 35.397731, ewa inertia: 32.286659 \n",
      "Minibatch iteration 259/10000: mean batch inertia: 31.555150, ewa inertia: 32.272030 \n",
      "[MiniBatchKMeans] Reassigning 50 cluster centers.\n",
      "Minibatch iteration 260/10000: mean batch inertia: 29.763667, ewa inertia: 32.221868 \n",
      "Minibatch iteration 261/10000: mean batch inertia: 48.557448, ewa inertia: 32.548547 \n",
      "Minibatch iteration 262/10000: mean batch inertia: 39.182039, ewa inertia: 32.681203 \n",
      "Minibatch iteration 263/10000: mean batch inertia: 28.164360, ewa inertia: 32.590875 \n",
      "Minibatch iteration 264/10000: mean batch inertia: 23.691954, ewa inertia: 32.412915 \n",
      "Minibatch iteration 265/10000: mean batch inertia: 27.568246, ewa inertia: 32.316031 \n",
      "Minibatch iteration 266/10000: mean batch inertia: 33.671877, ewa inertia: 32.343145 \n",
      "Minibatch iteration 267/10000: mean batch inertia: 37.211809, ewa inertia: 32.440509 \n",
      "Minibatch iteration 268/10000: mean batch inertia: 39.280901, ewa inertia: 32.577303 \n",
      "Minibatch iteration 269/10000: mean batch inertia: 22.313838, ewa inertia: 32.372054 \n",
      "Minibatch iteration 270/10000: mean batch inertia: 29.371512, ewa inertia: 32.312049 \n",
      "Minibatch iteration 271/10000: mean batch inertia: 26.264164, ewa inertia: 32.191104 \n",
      "Minibatch iteration 272/10000: mean batch inertia: 34.141672, ewa inertia: 32.230111 \n",
      "[MiniBatchKMeans] Reassigning 50 cluster centers.\n",
      "Minibatch iteration 273/10000: mean batch inertia: 28.638946, ewa inertia: 32.158295 \n",
      "Minibatch iteration 274/10000: mean batch inertia: 31.664712, ewa inertia: 32.148424 \n",
      "Minibatch iteration 275/10000: mean batch inertia: 27.123447, ewa inertia: 32.047935 \n",
      "Minibatch iteration 276/10000: mean batch inertia: 28.740180, ewa inertia: 31.981786 \n",
      "Minibatch iteration 277/10000: mean batch inertia: 24.330180, ewa inertia: 31.828770 \n",
      "Minibatch iteration 278/10000: mean batch inertia: 27.772265, ewa inertia: 31.747648 \n",
      "Minibatch iteration 279/10000: mean batch inertia: 39.146720, ewa inertia: 31.895614 \n",
      "[MiniBatchKMeans] Reassigning 50 cluster centers.\n",
      "Minibatch iteration 280/10000: mean batch inertia: 41.528981, ewa inertia: 32.088262 \n",
      "Converged (lack of improvement in inertia) at iteration 280/10000\n",
      "Computing label assignment and total inertia\n"
     ]
    },
    {
     "data": {
      "text/plain": [
       "MiniBatchKMeans(batch_size=100, compute_labels=True, init='k-means++',\n",
       "        init_size=None, max_iter=100, max_no_improvement=100,\n",
       "        n_clusters=1000, n_init=2, random_state=None,\n",
       "        reassignment_ratio=0.4, tol=0.0, verbose=1)"
      ]
     },
     "execution_count": 139,
     "metadata": {},
     "output_type": "execute_result"
    }
   ],
   "source": [
    "cluster = MiniBatchKMeans(1000, n_init=2, verbose=1, max_no_improvement=100, reassignment_ratio=0.4)\n",
    "cluster.fit(matrix)"
   ]
  },
  {
   "cell_type": "code",
   "execution_count": 140,
   "metadata": {},
   "outputs": [],
   "source": [
    "\n",
    "cls = defaultdict(list)\n",
    "\n",
    "for i, cl in enumerate(cluster.labels_):\n",
    "    cls[cl].append(id2word[i])\n",
    "\n",
    "f = open('cluster_ft.txt', 'w')\n",
    "for cl in cls:\n",
    "    f.write('### '+ str(cl) + ' ###\\n')\n",
    "    f.write('\\n'.join(cls[cl]))\n",
    "    f.write('\\n\\n')\n",
    "f.close()"
   ]
  },
  {
   "cell_type": "code",
   "execution_count": null,
   "metadata": {},
   "outputs": [],
   "source": []
  }
 ],
 "metadata": {
  "kernelspec": {
   "display_name": "Python 3",
   "language": "python",
   "name": "python3"
  },
  "language_info": {
   "codemirror_mode": {
    "name": "ipython",
    "version": 3
   },
   "file_extension": ".py",
   "mimetype": "text/x-python",
   "name": "python",
   "nbconvert_exporter": "python",
   "pygments_lexer": "ipython3",
   "version": "3.5.2"
  }
 },
 "nbformat": 4,
 "nbformat_minor": 2
}
