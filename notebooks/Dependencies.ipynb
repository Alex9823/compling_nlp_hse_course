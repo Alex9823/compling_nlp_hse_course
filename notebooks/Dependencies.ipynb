{
 "cells": [
  {
   "cell_type": "code",
   "execution_count": 87,
   "metadata": {},
   "outputs": [],
   "source": [
    "from nltk.grammar import DependencyGrammar\n",
    "from nltk.parse import (\n",
    "    DependencyGraph,\n",
    "    ProjectiveDependencyParser,\n",
    "    NonprojectiveDependencyParser,\n",
    ")\n",
    "from collections import Counter\n",
    "import warnings\n",
    "warnings.filterwarnings('ignore')"
   ]
  },
  {
   "cell_type": "markdown",
   "metadata": {},
   "source": [
    "Где прочитать про алгоритмы если вдруг интересно:\n",
    "\n",
    "работа про DRAGNN (гугловский парсер):\n",
    "\n",
    "работа про UDPIPE (популярный парсер):\n",
    "\n",
    "работа с хорошим Related works, из которого можно понять примерный раклад и куда дальше копать:"
   ]
  },
  {
   "cell_type": "markdown",
   "metadata": {},
   "source": [
    "Какие есть корпуса:\n",
    "    \n",
    "Сайт Universal dependencies приводит ссылки на доступные корпуса (там уже много языков)\n",
    "\n",
    "Для стандартный - Syntagrus\n",
    "Скоро должен выйти большой корпус Taiga (сейчас доступна небольшая часть)\n",
    "\n",
    "На них можно обучать и тестрировать модели.\n",
    "\n",
    "Большой размеченный UDPipe корпус можно взять тут (острожно 27 гб в сжатом виде)"
   ]
  },
  {
   "cell_type": "markdown",
   "metadata": {},
   "source": [
    "Скорее всего сами вы обучать ничего не будете, а будет использовать готовые инструменты.\n",
    "\n",
    "Два самых популярных:\n",
    "    Syntaxnet (DRAGNN) - от гугла\n",
    "    UDPipe\n",
    "    \n",
    "SyntaxNet активно развивается, но его достаточно трудоемко ставить \n",
    "UdPipe работает похуже, но установить его легче\n",
    "\n",
    "Если вам нужен английский, то удобнее всего разбирать предложения через spacy.\n",
    "\n"
   ]
  },
  {
   "cell_type": "code",
   "execution_count": null,
   "metadata": {},
   "outputs": [],
   "source": []
  },
  {
   "cell_type": "markdown",
   "metadata": {},
   "source": [
    "Посмотрим, как выглядит разобранное предложение. Я взял 50 тыс предложений из корпуса. Там много мусора, но на больших количествах это не сильно мешает."
   ]
  },
  {
   "cell_type": "code",
   "execution_count": 114,
   "metadata": {},
   "outputs": [],
   "source": [
    "sentences = open('data/sentences_100000.txt').read().splitlines()"
   ]
  },
  {
   "cell_type": "code",
   "execution_count": 115,
   "metadata": {},
   "outputs": [],
   "source": [
    "trees = open('data/trees_100000.txt').read().split('\\n\\n')"
   ]
  },
  {
   "cell_type": "code",
   "execution_count": 29,
   "metadata": {},
   "outputs": [
    {
     "data": {
      "text/plain": [
       "'приливы, нарушения сна, психологические расстройства и сухость во'"
      ]
     },
     "execution_count": 29,
     "metadata": {},
     "output_type": "execute_result"
    }
   ],
   "source": [
    "# Пример предложения\n",
    "sentences[1]"
   ]
  },
  {
   "cell_type": "code",
   "execution_count": 164,
   "metadata": {},
   "outputs": [
    {
     "data": {
      "text/plain": [
       "['1 Когда когда SCONJ _ _ 14 mark _ _',\n",
       " '2 у у ADP _ _ 3 case _ _',\n",
       " '3 вас вы PRON _ Case=Gen|Number=Plur|Person=2 4 obl _ _',\n",
       " '4 появляется появляться VERB _ Aspect=Imp|Mood=Ind|Number=Sing|Person=3|Tense=Pres|VerbForm=Fin|Voice=Mid 14 advcl _ _',\n",
       " '5 нагрузка нагрузка NOUN _ Animacy=Inan|Case=Nom|Gender=Fem|Number=Sing 4 nsubj _ SpaceAfter=No',\n",
       " '6 , , PUNCT _ _ 5 punct _ _',\n",
       " '7 которую который PRON _ Case=Acc 9 obj _ _',\n",
       " '8 нужно нужный ADJ _ Degree=Pos|Gender=Neut|Number=Sing|Variant=Short 5 acl:relcl _ _',\n",
       " '9 оптимизировать оптимизировать VERB _ Aspect=Imp|VerbForm=Inf|Voice=Act 8 nsubj _ _',\n",
       " '10 — — PUNCT _ _ 11 punct _ _',\n",
       " '11 php php X _ Foreign=Yes 9 flat:foreign _ SpaceAfter=No',\n",
       " '12 / / PUNCT _ _ 11 punct _ SpaceAfter=No',\n",
       " '13 ruby/python ruby/pythoн-лат X _ Foreign=Yes 11 flat:foreign _ _',\n",
       " '14 становятся становиться VERB _ Aspect=Imp|Mood=Ind|Number=Plur|Person=3|Tense=Pres|VerbForm=Fin|Voice=Mid 0 root _ _',\n",
       " '15 убогими убогий ADJ _ Case=Ins|Degree=Pos|Number=Plur 14 amod _ SpaceAfter=No',\n",
       " '16 . . PUNCT _ _ 15 punct _ _']"
      ]
     },
     "execution_count": 164,
     "metadata": {},
     "output_type": "execute_result"
    }
   ],
   "source": [
    "# Как выглядит его дерево\n",
    "[x.replace('\\t', ' ') for x in trees[2].split('\\n')]"
   ]
  },
  {
   "cell_type": "code",
   "execution_count": null,
   "metadata": {},
   "outputs": [],
   "source": [
    "В nltk есть удобный класс для загрузки таки"
   ]
  },
  {
   "cell_type": "code",
   "execution_count": 146,
   "metadata": {},
   "outputs": [],
   "source": [
    "d = DependencyGraph(trees[10])"
   ]
  },
  {
   "cell_type": "code",
   "execution_count": 123,
   "metadata": {},
   "outputs": [
    {
     "data": {
      "text/plain": [
       "defaultdict(<function nltk.parse.dependencygraph.DependencyGraph.__init__.<locals>.<lambda>>,\n",
       "            {0: {'address': 0,\n",
       "              'ctag': 'TOP',\n",
       "              'deps': defaultdict(list, {'ROOT': [], 'root': [3]}),\n",
       "              'feats': None,\n",
       "              'head': None,\n",
       "              'lemma': None,\n",
       "              'rel': None,\n",
       "              'tag': 'TOP',\n",
       "              'word': None},\n",
       "             1: {'address': 1,\n",
       "              'ctag': 'ADV',\n",
       "              'deps': defaultdict(list, {}),\n",
       "              'feats': 'Degree=Pos',\n",
       "              'head': 2,\n",
       "              'lemma': 'абсолютно',\n",
       "              'rel': 'advmod',\n",
       "              'tag': '_',\n",
       "              'word': 'Абсолютно'},\n",
       "             2: {'address': 2,\n",
       "              'ctag': 'ADJ',\n",
       "              'deps': defaultdict(list, {'advmod': [1]}),\n",
       "              'feats': 'Animacy=Inan|Case=Acc|Degree=Pos|Number=Plur',\n",
       "              'head': 3,\n",
       "              'lemma': 'разный',\n",
       "              'rel': 'amod',\n",
       "              'tag': '_',\n",
       "              'word': 'разные'},\n",
       "             3: {'address': 3,\n",
       "              'ctag': 'NOUN',\n",
       "              'deps': defaultdict(list, {'amod': [2], 'nmod': [6]}),\n",
       "              'feats': 'Animacy=Inan|Case=Acc|Gender=Fem|Number=Plur',\n",
       "              'head': 0,\n",
       "              'lemma': 'вещь',\n",
       "              'rel': 'root',\n",
       "              'tag': '_',\n",
       "              'word': 'вещи'},\n",
       "             4: {'address': 4,\n",
       "              'ctag': 'ADP',\n",
       "              'deps': defaultdict(list, {}),\n",
       "              'feats': '_',\n",
       "              'head': 6,\n",
       "              'lemma': 'для',\n",
       "              'rel': 'case',\n",
       "              'tag': '_',\n",
       "              'word': 'для'},\n",
       "             5: {'address': 5,\n",
       "              'ctag': 'ADJ',\n",
       "              'deps': defaultdict(list, {}),\n",
       "              'feats': 'Case=Gen|Degree=Pos|Number=Plur',\n",
       "              'head': 6,\n",
       "              'lemma': 'разный',\n",
       "              'rel': 'amod',\n",
       "              'tag': '_',\n",
       "              'word': 'разных'},\n",
       "             6: {'address': 6,\n",
       "              'ctag': 'NOUN',\n",
       "              'deps': defaultdict(list,\n",
       "                          {'amod': [5], 'case': [4], 'punct': [7]}),\n",
       "              'feats': 'Animacy=Inan|Case=Gen|Gender=Fem|Number=Plur',\n",
       "              'head': 3,\n",
       "              'lemma': 'нужда',\n",
       "              'rel': 'nmod',\n",
       "              'tag': '_',\n",
       "              'word': 'нужд'},\n",
       "             7: {'address': 7,\n",
       "              'ctag': 'PUNCT',\n",
       "              'deps': defaultdict(list, {}),\n",
       "              'feats': '_',\n",
       "              'head': 6,\n",
       "              'lemma': '.',\n",
       "              'rel': 'punct',\n",
       "              'tag': '_',\n",
       "              'word': '.'}})"
      ]
     },
     "execution_count": 123,
     "metadata": {},
     "output_type": "execute_result"
    }
   ],
   "source": [
    "d.nodes"
   ]
  },
  {
   "cell_type": "code",
   "execution_count": 141,
   "metadata": {},
   "outputs": [],
   "source": [
    "def get_subtree(nodes, node, restrictions=[]):\n",
    "    \n",
    "    \n",
    "    if not nodes[node]['deps']:\n",
    "        return [node]\n",
    "    else:\n",
    "        \n",
    "        \n",
    "        return [node] + [get_subtree(nodes, dep) for rel in nodes[node]['deps'] if rel != 'punct'\\\n",
    "                         and not (restrictions and rel not in restrictions) \\\n",
    "                         for dep in nodes[node]['deps'][rel]]\n",
    "# flatten = lambda l: [item for sublist in l for item in sublist]\n",
    "def flatten(l):\n",
    "    flat = []\n",
    "    for el in l:\n",
    "        if not isinstance(el, list):\n",
    "            flat.append(el)\n",
    "        else:\n",
    "            flat += flatten(el)\n",
    "    return flat\n",
    "\n",
    "def get_words(nodes, node, level='word',restrictions=[]):\n",
    "    ns = (get_subtree(nodes, node, restrictions))\n",
    "    words = []\n",
    "    for i in ns:\n",
    "        if isinstance(i, list):\n",
    "            ws = sorted(flatten(i))\n",
    "            words.append(' '.join([nodes[j][level] for j in ws]))\n",
    "        else:\n",
    "            words.append(nodes[i][level])\n",
    "    return words\n",
    "\n",
    "def get_corpus_stat_for_word(trees, word, level='word', rel=[]):\n",
    "    stat = Counter()\n",
    "    heads = Counter()\n",
    "    for tree in trees:\n",
    "        try:\n",
    "            nodes = DependencyGraph(tree).nodes\n",
    "        except:\n",
    "            continue\n",
    "        \n",
    "        for i_word in nodes:\n",
    "            if nodes[i_word][level] == word:\n",
    "                sub = get_words(nodes, i_word, level, rel)\n",
    "                head = get_head(nodes, i_word)\n",
    "                heads.update([head])\n",
    "                stat.update(sub)\n",
    "    \n",
    "    w_stat = stat[word]\n",
    "    del stat[word]\n",
    "    \n",
    "    return w_stat, stat, heads\n",
    "\n",
    "def get_head(nodes, node, level='word'):\n",
    "    head = nodes[node]['head']\n",
    "    w_head = nodes[head][level]\n",
    "    rel = nodes[node]['rel']\n",
    "    \n",
    "    return w_head, rel, nodes[node][level]"
   ]
  },
  {
   "cell_type": "code",
   "execution_count": 150,
   "metadata": {},
   "outputs": [
    {
     "data": {
      "text/plain": [
       "[2]"
      ]
     },
     "execution_count": 150,
     "metadata": {},
     "output_type": "execute_result"
    }
   ],
   "source": [
    "d.nodes[0]['deps']['root']"
   ]
  },
  {
   "cell_type": "code",
   "execution_count": 151,
   "metadata": {},
   "outputs": [
    {
     "data": {
      "text/plain": [
       "['уменьшили', 'Вы', 'настолько что не можете увидеть флажки', 'масштаб']"
      ]
     },
     "execution_count": 151,
     "metadata": {},
     "output_type": "execute_result"
    }
   ],
   "source": [
    "get_words(d.nodes, d.nodes[0]['deps']['root'][0])"
   ]
  },
  {
   "cell_type": "code",
   "execution_count": 127,
   "metadata": {},
   "outputs": [
    {
     "data": {
      "text/plain": [
       "('разные', 'advmod')"
      ]
     },
     "execution_count": 127,
     "metadata": {},
     "output_type": "execute_result"
    }
   ],
   "source": [
    "\n",
    "get_head(d.nodes, 1)"
   ]
  },
  {
   "cell_type": "code",
   "execution_count": 53,
   "metadata": {},
   "outputs": [
    {
     "data": {
      "text/plain": [
       "True"
      ]
     },
     "execution_count": 53,
     "metadata": {},
     "output_type": "execute_result"
    }
   ],
   "source": [
    "restrictions = ['conj']\n",
    "rel = 'conj'\n",
    "not (restrictions and rel not in restrictions)"
   ]
  },
  {
   "cell_type": "code",
   "execution_count": 143,
   "metadata": {
    "scrolled": true
   },
   "outputs": [
    {
     "data": {
      "text/plain": [
       "(69,\n",
       " Counter({'1379.1112110': 1,\n",
       "          '236 1007025': 1,\n",
       "          '273': 1,\n",
       "          'Am': 1,\n",
       "          'Openoffice': 1,\n",
       "          '«Метелицы»': 1,\n",
       "          'Мексидола': 1,\n",
       "          'Мексидола тут': 1,\n",
       "          'Распылитель': 1,\n",
       "          'аргинин': 1,\n",
       "          'без': 1,\n",
       "          'бесплатный': 1,\n",
       "          'более легкий': 1,\n",
       "          'быть': 1,\n",
       "          'в мир': 1,\n",
       "          'в один таблицеН': 1,\n",
       "          'включайть в себя достойный замена Word и Excel': 1,\n",
       "          'вместо': 1,\n",
       "          'выше': 1,\n",
       "          'данный препарат': 1,\n",
       "          'дешевый': 1,\n",
       "          'жидкий гран': 1,\n",
       "          'западный': 2,\n",
       "          'зарубежный': 2,\n",
       "          'зодиакальный': 1,\n",
       "          'и': 6,\n",
       "          'и новинка': 1,\n",
       "          'из 1-й опытный группа': 1,\n",
       "          'из контрольный группа': 1,\n",
       "          'из линия LeBaron': 1,\n",
       "          'из-за рубеж': 1,\n",
       "          'изготавливать на заказ': 1,\n",
       "          'или': 2,\n",
       "          'иметься': 1,\n",
       "          'иметься в каждый округ': 1,\n",
       "          'как': 2,\n",
       "          'карбон': 1,\n",
       "          'китайский': 1,\n",
       "          'коммерческий': 1,\n",
       "          'любой': 1,\n",
       "          'на земля который быть бы похожий на этот загадочный животное': 1,\n",
       "          'наверняка': 1,\n",
       "          'некоторый': 1,\n",
       "          'но у ардуина быть несколько заметный достоинство': 1,\n",
       "          'о': 3,\n",
       "          'оборудование': 1,\n",
       "          'он': 3,\n",
       "          'они': 4,\n",
       "          'от отечественный ремонт все отговаривать': 1,\n",
       "          'по сравнение с': 2,\n",
       "          'поль-ский «Солидарности»': 1,\n",
       "          'приложение для водитель такси': 1,\n",
       "          'прогестерон': 1,\n",
       "          'программа компания Майкрософт': 1,\n",
       "          'с весьма достойный железо': 1,\n",
       "          'с помощь': 1,\n",
       "          'синоним': 1,\n",
       "          'синтетический': 1,\n",
       "          'содержание в кровь у теленок опытный группа общий белок каротина резервный щелочность фосфор': 1,\n",
       "          'соответственно на 5,2 25,8 3 и 6,4 процент-знак': 1,\n",
       "          'спецназ': 1,\n",
       "          'справочник': 1,\n",
       "          'только для частный мастер': 1,\n",
       "          'хороший': 1,\n",
       "          'штука': 2,\n",
       "          'это': 2}),\n",
       " Counter({('«мозги»', 'appos', 'аналог'): 1,\n",
       "          ('Информированы', 'obl', 'аналогах'): 1,\n",
       "          ('Киа', 'conj', 'аналогов'): 1,\n",
       "          ('НовгородКазаньСамараОмскЧелябинскРостов-на-ДонуКраснодарУфаАналогиОригиналы',\n",
       "           'conj',\n",
       "           'аналоги'): 1,\n",
       "          ('Подбор', 'nmod', 'аналогов'): 1,\n",
       "          ('Узнайте', 'obl', 'аналогах'): 1,\n",
       "          ('Уромитексан', 'conj', 'аналоги'): 1,\n",
       "          ('Церебролизат', 'obj', 'аналог'): 1,\n",
       "          ('Эмоксипина', 'parataxis', 'аналога'): 1,\n",
       "          ('ЯМЗ', 'parataxis', 'аналог'): 1,\n",
       "          ('веществ', 'conj', 'аналогов'): 1,\n",
       "          ('выше', 'nmod', 'аналогами'): 1,\n",
       "          ('городКиевХарьковДонецкЛьвовОдессаЛюбой', 'conj', 'аналоги'): 1,\n",
       "          ('домкрата', 'conj', 'аналогов'): 1,\n",
       "          ('достоинство', 'nmod', 'аналогами'): 1,\n",
       "          ('имеют', 'obl', 'аналогов'): 1,\n",
       "          ('имеющих', 'obl', 'аналогов'): 1,\n",
       "          ('кабриолет', 'nmod', 'аналога'): 1,\n",
       "          ('каментах', 'obj', 'аналоги'): 1,\n",
       "          ('кошельку', 'advmod', 'аналоги'): 1,\n",
       "          ('микросхемы', 'conj', 'аналоги'): 1,\n",
       "          ('могут', 'nsubj', 'аналоги'): 1,\n",
       "          ('называется', 'nsubj', 'Аналог'): 1,\n",
       "          ('найти', 'obl', 'аналогов'): 1,\n",
       "          ('нашел', 'obj', 'аналог'): 1,\n",
       "          ('нет', 'nsubj', 'Аналога'): 1,\n",
       "          ('нет', 'nsubj', 'аналогов'): 1,\n",
       "          ('облегчат', 'obl', 'аналогов'): 1,\n",
       "          ('объект', 'nsubj', 'Аналог'): 1,\n",
       "          ('основе', 'nmod', 'аналога'): 1,\n",
       "          ('отзывами', 'nmod', 'аналогах'): 1,\n",
       "          ('отзывы', 'conj', 'аналоги'): 22,\n",
       "          ('отряд', 'parataxis', 'аналог'): 1,\n",
       "          ('подобрать', 'obj', 'аналог'): 1,\n",
       "          ('приложение', 'appos', 'аналог'): 1,\n",
       "          ('применения', 'conj', 'аналогов'): 1,\n",
       "          ('принципу', 'nmod', 'аналогов'): 1,\n",
       "          ('продержатся', 'obl', 'аналога'): 1,\n",
       "          ('рассматривается', 'advmod', 'аналог'): 1,\n",
       "          ('стать', 'obl', 'аналогом'): 1,\n",
       "          ('тканей', 'conj', 'аналогов'): 1,\n",
       "          ('уступать', 'obl', 'аналогам'): 1,\n",
       "          ('чем', 'nmod', 'аналога'): 1,\n",
       "          ('является', 'obl', 'аналогом'): 1,\n",
       "          (None, 'root', 'аналог'): 3,\n",
       "          (None, 'root', 'аналогов'): 1}))"
      ]
     },
     "execution_count": 143,
     "metadata": {},
     "output_type": "execute_result"
    }
   ],
   "source": [
    "get_corpus_stat_for_word(trees,'аналог', 'lemma', [])"
   ]
  },
  {
   "cell_type": "code",
   "execution_count": 153,
   "metadata": {},
   "outputs": [
    {
     "name": "stdout",
     "output_type": "stream",
     "text": [
      "list index out of range\n"
     ]
    }
   ],
   "source": [
    "rels = set()\n",
    "poss = set()\n",
    "for tree in trees:\n",
    "    try:\n",
    "        labels = [x.split('\\t')[7] for x in tree.split('\\n')]\n",
    "        pos = [x.split('\\t')[3] for x in tree.split('\\n')]\n",
    "    except Exception as e:\n",
    "        print(e)\n",
    "        continue\n",
    "    rels.update(labels)\n",
    "    poss.update(pos)"
   ]
  },
  {
   "cell_type": "code",
   "execution_count": 154,
   "metadata": {},
   "outputs": [
    {
     "data": {
      "text/plain": [
       "{'acl',\n",
       " 'acl:relcl',\n",
       " 'advcl',\n",
       " 'advmod',\n",
       " 'amod',\n",
       " 'appos',\n",
       " 'aux',\n",
       " 'aux:pass',\n",
       " 'case',\n",
       " 'cc',\n",
       " 'ccomp',\n",
       " 'compound',\n",
       " 'conj',\n",
       " 'cop',\n",
       " 'dep',\n",
       " 'discourse',\n",
       " 'expl',\n",
       " 'fixed',\n",
       " 'flat',\n",
       " 'flat:foreign',\n",
       " 'flat:name',\n",
       " 'iobj',\n",
       " 'mark',\n",
       " 'nmod',\n",
       " 'nsubj',\n",
       " 'nsubj:pass',\n",
       " 'nummod',\n",
       " 'nummod:entity',\n",
       " 'nummod:gov',\n",
       " 'obj',\n",
       " 'obl',\n",
       " 'obl:agent',\n",
       " 'orphan',\n",
       " 'parataxis',\n",
       " 'punct',\n",
       " 'root',\n",
       " 'xcomp'}"
      ]
     },
     "execution_count": 154,
     "metadata": {},
     "output_type": "execute_result"
    }
   ],
   "source": [
    "rels"
   ]
  },
  {
   "cell_type": "code",
   "execution_count": 152,
   "metadata": {},
   "outputs": [
    {
     "ename": "NameError",
     "evalue": "name 'rels' is not defined",
     "output_type": "error",
     "traceback": [
      "\u001b[0;31m---------------------------------------------------------------------------\u001b[0m",
      "\u001b[0;31mNameError\u001b[0m                                 Traceback (most recent call last)",
      "\u001b[0;32m<ipython-input-152-5fc43a2d78ac>\u001b[0m in \u001b[0;36m<module>\u001b[0;34m()\u001b[0m\n\u001b[1;32m      2\u001b[0m \u001b[0mdigits\u001b[0m \u001b[0;34m=\u001b[0m \u001b[0;34m'0123456789UVWXYZ'\u001b[0m\u001b[0;34m\u001b[0m\u001b[0m\n\u001b[1;32m      3\u001b[0m \u001b[0;34m\u001b[0m\u001b[0m\n\u001b[0;32m----> 4\u001b[0;31m \u001b[0mrel2id\u001b[0m \u001b[0;34m=\u001b[0m \u001b[0;34m{\u001b[0m\u001b[0mrel\u001b[0m\u001b[0;34m:\u001b[0m\u001b[0mletters\u001b[0m\u001b[0;34m[\u001b[0m\u001b[0mi\u001b[0m\u001b[0;34m]\u001b[0m \u001b[0;32mfor\u001b[0m \u001b[0mi\u001b[0m\u001b[0;34m,\u001b[0m \u001b[0mrel\u001b[0m \u001b[0;32min\u001b[0m \u001b[0menumerate\u001b[0m\u001b[0;34m(\u001b[0m\u001b[0mrels\u001b[0m\u001b[0;34m)\u001b[0m\u001b[0;34m}\u001b[0m\u001b[0;34m\u001b[0m\u001b[0m\n\u001b[0m",
      "\u001b[0;31mNameError\u001b[0m: name 'rels' is not defined"
     ]
    }
   ],
   "source": [
    "letters = 'abcdefghijklmnopqrstuvwxyzABCDEFGHIJKLMNOPQRST'\n",
    "digits = '0123456789UVWXYZ'\n",
    "\n",
    "rel2id = {rel:letters[i] for i, rel in enumerate(rels)}\n"
   ]
  },
  {
   "cell_type": "code",
   "execution_count": null,
   "metadata": {},
   "outputs": [],
   "source": [
    "# Функции для превращения деревьев в формат, необходимый для tree adit distance (Zhu)\n",
    "sp = []\n",
    "def transform(tree):\n",
    "    global sp\n",
    "    sp = reshape(tree.nodes)\n",
    "    return eval(parse(sp[0]))\n",
    "\n",
    "def transform_raw(tree):\n",
    "    global sp\n",
    "    sp = reshape(tree.nodes)\n",
    "    return parse(sp[0])\n",
    "\n",
    "def reshape(d):\n",
    "    sp = [(d[x]['rel'], [j for i in d[x]['deps'] for j in d[x]['deps'][i]]) for x in range(len(d))]\n",
    "    return sp\n",
    "\n",
    "def parse(tree):\n",
    "    if len(tree[1]) == 0:\n",
    "        return 'Node(\"{}\", [])'.format(tree[0])\n",
    "    else:\n",
    "        return 'Node(\"{}\", ['.format(tree[0]) + ','.join([parse(sp[x]) for x in tree[1]]) + '])'"
   ]
  },
  {
   "cell_type": "code",
   "execution_count": 155,
   "metadata": {},
   "outputs": [],
   "source": [
    "import zss\n",
    "import re\n",
    "\n",
    "def subtree(node, tree):\n",
    "    if not tree[node]['deps']:\n",
    "        word = tree[node]['word']\n",
    "        if not word:\n",
    "            word = 'UNK'\n",
    "        pos = tree[node]['ctag']\n",
    "        rel = tree[node]['rel']\n",
    "        label = 'WORD=#{}#,POS=#{}#,REL=#{}#'.format(word, pos, rel)\n",
    "        return \"WNode('{}', [])\".format(label)\n",
    "    else:\n",
    "        sub = []\n",
    "        for dep in tree[node]['deps']:\n",
    "            for n in tree[node]['deps'][dep]:\n",
    "                sub.append(subtree(n, tree))\n",
    "        \n",
    "        if not tree[node]['rel']:\n",
    "            if tree[node]['ctag'] == 'TOP':\n",
    "                name = 'TOP'\n",
    "                word = 'TOP'\n",
    "                if not word:\n",
    "                    word = 'UNK'\n",
    "                pos = 'TOP'\n",
    "                rel = 'TOP'\n",
    "            else:\n",
    "                print('Node numeber - {} is None and not TOP!'.format(node))\n",
    "                raise KeyError\n",
    "        else:    \n",
    "            word = tree[node]['word']\n",
    "            pos = tree[node]['ctag']\n",
    "            rel = tree[node]['rel']\n",
    "        label = 'WORD=#{}#,POS=#{}#,REL=#{}#'.format(word, pos, rel)\n",
    "            \n",
    "        return \"WNode('{}', [{}])\".format(label , ', '.join(sub))\n",
    "\n",
    "# def to_zss(tree):\n",
    "#     top = \"Node('TOP', [{}])\"\n",
    "#     deps = []\n",
    "#     for dep in tree.nodes[0]['deps']:\n",
    "#         for \n",
    "\n",
    "def weird_dist(A, B):\n",
    "    ma = re.search('WORD=#(.*?)#,POS=#(.*?)#,REL=#(.*?)#', A)\n",
    "    mb = re.search('WORD=#(.*?)#,POS=#(.*?)#,REL=#(.*?)#', B)\n",
    "    \n",
    "    if not ma and mb:\n",
    "        return 1\n",
    "    elif ma and not mb:\n",
    "        return 3\n",
    "    elif not ma and not mb:\n",
    "        print('NO')\n",
    "        return 0\n",
    "    \n",
    "    word_a, pos_a, rel_a = ma.groups()\n",
    "    word_b, pos_b, rel_b = mb.groups()\n",
    "    dist = 0\n",
    "    \n",
    "    \n",
    "    v_a = w2v[word_a] if word_a in w2v else None\n",
    "    v_b = w2v[word_b] if word_b in w2v else None\n",
    "    \n",
    "    \n",
    "    if type(v_a) != type(v_b):\n",
    "        dist += 1\n",
    "    \n",
    "    else:\n",
    "        if v_a is not None:\n",
    "            if (1 - cosine(v_a, v_b)) < 0.7:\n",
    "                dist += 1\n",
    "        else:\n",
    "            if word_a != word_b:\n",
    "                dist += 1\n",
    "    \n",
    "    if pos_a != pos_b:\n",
    "#         print(pos_a, pos_b)\n",
    "        dist += 1\n",
    "    \n",
    "    if rel_a != rel_b:\n",
    "#         print(rel_a, rel_b)\n",
    "        dist += 1\n",
    "    \n",
    "    \n",
    "    return dist\n",
    "\n",
    "class WNode(object):\n",
    "\n",
    "    def __init__(self, label, children=None):\n",
    "        self.my_label = label\n",
    "        self.my_children = children or list()\n",
    "\n",
    "    @staticmethod\n",
    "    def get_children(node):\n",
    "        return node.my_children\n",
    "\n",
    "    @staticmethod\n",
    "    def get_label(node):\n",
    "        return node.my_label\n",
    "\n",
    "    def addkid(self, node, before=False):\n",
    "        if before:  self.my_children.insert(0, node)\n",
    "        else:   self.my_children.append(node)\n",
    "        return self\n",
    "    \n",
    "    def __str__(self):\n",
    "        s = \"%d:%s\" % (len(self.my_children), self.my_label)\n",
    "        s = '\\n'.join([s]+[str(c) for c in self.my_children])\n",
    "        return s\n",
    "\n"
   ]
  },
  {
   "cell_type": "code",
   "execution_count": 156,
   "metadata": {},
   "outputs": [],
   "source": [
    "import gensim"
   ]
  },
  {
   "cell_type": "code",
   "execution_count": 159,
   "metadata": {},
   "outputs": [],
   "source": [
    "sents = []\n",
    "for tree in trees:\n",
    "    try:\n",
    "        words = [x.split('\\t')[1] for x in tree.split('\\n')]\n",
    "    except:\n",
    "        continue\n",
    "    sents.append(words)"
   ]
  },
  {
   "cell_type": "code",
   "execution_count": 160,
   "metadata": {},
   "outputs": [
    {
     "data": {
      "text/plain": [
       "[['Естественно', 'цена', 'там', 'была', 'аховая', '.'],\n",
       " ['–', 'Может', '.', '.', '.'],\n",
       " ['Когда',\n",
       "  'у',\n",
       "  'вас',\n",
       "  'появляется',\n",
       "  'нагрузка',\n",
       "  ',',\n",
       "  'которую',\n",
       "  'нужно',\n",
       "  'оптимизировать',\n",
       "  '—',\n",
       "  'php',\n",
       "  '/',\n",
       "  'ruby/python',\n",
       "  'становятся',\n",
       "  'убогими',\n",
       "  '.'],\n",
       " ['Турецкий',\n",
       "  'сериал',\n",
       "  'Серебро',\n",
       "  '/',\n",
       "  'Гюмюш',\n",
       "  '/',\n",
       "  'Gümüş',\n",
       "  '61',\n",
       "  'серия',\n",
       "  'онлайн',\n",
       "  'с',\n",
       "  'русскими',\n",
       "  'субтитрами'],\n",
       " ['Подхалимство',\n",
       "  'и',\n",
       "  'его',\n",
       "  'неизбежное',\n",
       "  'следствие',\n",
       "  '-',\n",
       "  'очковтирательство',\n",
       "  'могут',\n",
       "  '.'],\n",
       " ['См.',\n",
       "  'похожие',\n",
       "  'отели',\n",
       "  'Belltown',\n",
       "  'Inn',\n",
       "  '798',\n",
       "  'отзывовПоказать',\n",
       "  'цены',\n",
       "  '0.3',\n",
       "  'км',\n",
       "  'Hotel',\n",
       "  'Five',\n",
       "  '-',\n",
       "  'A',\n",
       "  'Piece',\n",
       "  'of',\n",
       "  'Pineapple',\n",
       "  'Hospitality',\n",
       "  '1',\n",
       "  '064',\n",
       "  'отзываПоказать',\n",
       "  'цены',\n",
       "  '0.6',\n",
       "  'км',\n",
       "  'The',\n",
       "  'Edgewater',\n",
       "  ',',\n",
       "  'A',\n",
       "  'Noble',\n",
       "  'House',\n",
       "  'Hotel',\n",
       "  '3',\n",
       "  '279',\n",
       "  'отзывовПоказать',\n",
       "  'цены',\n",
       "  '0.3',\n",
       "  'км',\n",
       "  'Сиэтл',\n",
       "  ':',\n",
       "  'просмотреть',\n",
       "  'все',\n",
       "  'отели',\n",
       "  'Интересное',\n",
       "  'поблизости'],\n",
       " ['Сегодня',\n",
       "  'мы',\n",
       "  'расскажем',\n",
       "  'не',\n",
       "  'только',\n",
       "  'о',\n",
       "  'недостатке',\n",
       "  'витаминов',\n",
       "  'группы',\n",
       "  'В',\n",
       "  'вообще',\n",
       "  ',',\n",
       "  'но',\n",
       "  'и',\n",
       "  'поговорим',\n",
       "  'о',\n",
       "  'каждом',\n",
       "  'представителе',\n",
       "  '.'],\n",
       " ['ПодробнееАрсенал',\n",
       "  ',',\n",
       "  'ООО',\n",
       "  '|',\n",
       "  'Украина',\n",
       "  ',',\n",
       "  'Днепропетровск',\n",
       "  'AllBiz',\n",
       "  'доверяет',\n",
       "  'компании',\n",
       "  'более',\n",
       "  '12',\n",
       "  'лет+380',\n",
       "  'показать',\n",
       "  'телефоны',\n",
       "  '×',\n",
       "  ',',\n",
       "  'арсенал',\n",
       "  '-',\n",
       "  'ооо.com.uaО',\n",
       "  'компании',\n",
       "  '|',\n",
       "  'Контакты',\n",
       "  '|',\n",
       "  'Ещё',\n",
       "  '2',\n",
       "  'в',\n",
       "  'этой',\n",
       "  'группеУточнить',\n",
       "  'ценуСообщить',\n",
       "  'об',\n",
       "  'ошибке',\n",
       "  '\"',\n",
       "  'Аноды',\n",
       "  'никелевые',\n",
       "  '\"',\n",
       "  'Хотите',\n",
       "  ',',\n",
       "  'чтобы',\n",
       "  'и',\n",
       "  'ваша',\n",
       "  'информация',\n",
       "  'выводилась',\n",
       "  'по',\n",
       "  'запросу',\n",
       "  'Аноды',\n",
       "  'никелевые',\n",
       "  '?'],\n",
       " ['Во', 'время', 'занятий', '.', '.', '.'],\n",
       " ['В',\n",
       "  'три',\n",
       "  'раза',\n",
       "  'больше',\n",
       "  'миль',\n",
       "  'в',\n",
       "  'первые',\n",
       "  '45',\n",
       "  'дней',\n",
       "  '.Узнать',\n",
       "  'подробнееСтань',\n",
       "  'чемпионом',\n",
       "  'с',\n",
       "  'картой']]"
      ]
     },
     "execution_count": 160,
     "metadata": {},
     "output_type": "execute_result"
    }
   ],
   "source": [
    "sents[:10]"
   ]
  }
 ],
 "metadata": {
  "kernelspec": {
   "display_name": "Python 3",
   "language": "python",
   "name": "python3"
  },
  "language_info": {
   "codemirror_mode": {
    "name": "ipython",
    "version": 3
   },
   "file_extension": ".py",
   "mimetype": "text/x-python",
   "name": "python",
   "nbconvert_exporter": "python",
   "pygments_lexer": "ipython3",
   "version": "3.5.2"
  }
 },
 "nbformat": 4,
 "nbformat_minor": 2
}
